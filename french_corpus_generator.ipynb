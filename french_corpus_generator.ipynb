{
 "cells": [
  {
   "cell_type": "markdown",
   "metadata": {},
   "source": [
    "# Здесь мы парсим уже готовый чистый (plain text) корпус Толстовских реплик и распределяем их по двум корпусам."
   ]
  },
  {
   "cell_type": "code",
   "execution_count": 26,
   "metadata": {},
   "outputs": [],
   "source": [
    "import os\n",
    "from langdetect import detect\n",
    "from nltk import sent_tokenize\n",
    "from tqdm import tqdm"
   ]
  },
  {
   "cell_type": "code",
   "execution_count": 27,
   "metadata": {},
   "outputs": [],
   "source": [
    "# папка с корпусом.\n",
    "path = 'corpus/'\n",
    "# папка с французским корпусом.\n",
    "french_path = 'french_corpus/'\n",
    "# список файлов в корпусе.\n",
    "corpus = os.listdir(path)\n",
    "# список файлов во французском корпусе.\n",
    "french_corpus = os.listdir(french_path)\n",
    "\n",
    "# нет желания смотреть, что такое .DS_Store, но оно нам в списке не нужно.\n",
    "if '.DS_Store' in corpus:\n",
    "    corpus.remove('.DS_Store')\n",
    "if '.DS_Store' in french_corpus:\n",
    "    french_corpus.remove('.DS_Store')"
   ]
  },
  {
   "cell_type": "code",
   "execution_count": 31,
   "metadata": {},
   "outputs": [],
   "source": [
    "# функция: берет текст, возвращает список всех французских фраз оттуда.\n",
    "# что делает: разделяет текст на предложения и при помощи langdetect\n",
    "# определяет, если фраза французская. в этом случае добавляет ее в\n",
    "# список (french_sents). его и возвращает.\n",
    "def french_pickout(text):\n",
    "    sents = sent_tokenize(text)\n",
    "    french_sents = []\n",
    "    for sent in tqdm(sents):\n",
    "        try:\n",
    "            if detect(sent) == 'fr':\n",
    "                french_sents.append(sent)\n",
    "        except Exception as e:\n",
    "            print(e)\n",
    "    return french_sents"
   ]
  },
  {
   "cell_type": "code",
   "execution_count": 35,
   "metadata": {},
   "outputs": [],
   "source": [
    "# функция: основная\n",
    "# что делает: читает файлы в основном корпусе, из каждого достает список\n",
    "# french_pickout (если этого текста еще нет во французсом корпусе).\n",
    "# эти списки записывает по файлам во французский корпус.\n",
    "def main():\n",
    "    for file in corpus:\n",
    "        print(file+':')\n",
    "        if file not in french_corpus:\n",
    "            with open(path+file, encoding='utf-8') as f:\n",
    "                text = f.read()\n",
    "            french_sents = french_pickout(text)\n",
    "            if french_sents:\n",
    "                with open(french_path+file, 'w', encoding='utf-8') as f:\n",
    "                    f.write('\\n'.join(french_sents))\n",
    "        else:\n",
    "            print('File already in French corpus.')"
   ]
  },
  {
   "cell_type": "code",
   "execution_count": null,
   "metadata": {},
   "outputs": [],
   "source": [
    "if __name__ == '__main__':\n",
    "    main()"
   ]
  }
 ],
 "metadata": {
  "kernelspec": {
   "display_name": "Python 3",
   "language": "python",
   "name": "python3"
  },
  "language_info": {
   "codemirror_mode": {
    "name": "ipython",
    "version": 3
   },
   "file_extension": ".py",
   "mimetype": "text/x-python",
   "name": "python",
   "nbconvert_exporter": "python",
   "pygments_lexer": "ipython3",
   "version": "3.7.4"
  }
 },
 "nbformat": 4,
 "nbformat_minor": 2
}
