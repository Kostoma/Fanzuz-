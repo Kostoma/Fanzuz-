{
 "cells": [
  {
   "cell_type": "code",
   "execution_count": 68,
   "metadata": {
    "collapsed": true,
    "pycharm": {
     "is_executing": false
    }
   },
   "outputs": [],
   "source": [
    "import os\n",
    "from nltk.tokenize import word_tokenize\n",
    "from pprint import pprint\n",
    "from tqdm import tqdm\n",
    "\n",
    "from pymorphy2 import MorphAnalyzer\n",
    "morph = MorphAnalyzer()"
   ]
  },
  {
   "cell_type": "code",
   "execution_count": 80,
   "outputs": [
    {
     "name": "stdout",
     "text": [
      "('— испуганно сказала Наташа. Семерка, которая была нужна ему, уже лежала '\n",
      " 'вверху, первою картой в колоде.')\n",
      "('— Не чаем довезти! Он сказал, что император Александр не  считает '\n",
      " 'достаточною причиной для войны требование паспортов Куракиным, что Куракин '\n",
      " 'поступил так по своему произволу и без согласия на то государя, что '\n",
      " 'император Александр не желает войны, и что с Англией нет никаких сношений. И '\n",
      " 'он перешел к расспросам о великом князе, о его здоровье, и о воспоминаниях '\n",
      " 'веселой забавно проведенного с ним времени в Неаполе. Дело спорилось, '\n",
      " 'благодаря распоряжениям Наташи: оставлялись ненужные вещи, и укладывались '\n",
      " 'самым тесным образом самые дорогие. Мы ничего не пожалеем для них. Они давно '\n",
      " 'хотели ехать в деревню.')\n",
      "('— Ах, маменька, холодная роса, да хороша, да в мушкатера... — припевал он, '\n",
      " 'как будто икая на каждом слоге песни. На болезнь плакаться — Бог смерти не '\n",
      " 'даст, — сказал Каратаев, и тотчас же возвратился к начатому рассказу. Казаки '\n",
      " 'и Долохов вскакали вслед за Петей в ворота дома.')\n",
      "'— О чем вы там шумите?'\n"
     ],
     "output_type": "stream"
    },
    {
     "name": "stderr",
     "text": [
      "100%|██████████| 1900/1900 [00:07<00:00, 242.38it/s]\n",
      "100%|██████████| 1553/1553 [00:05<00:00, 265.68it/s]\n",
      "100%|██████████| 979/979 [00:03<00:00, 255.61it/s]\n",
      "100%|██████████| 2015/2015 [00:07<00:00, 274.33it/s]\n"
     ],
     "output_type": "stream"
    }
   ],
   "source": [
    "dir = 'rus_corpus_docs'\n",
    "filepaths = []\n",
    "\n",
    "for i in os.listdir(dir):\n",
    "    if 'Война и мир' in i:\n",
    "        filepaths.append(os.path.join(dir, i))\n",
    "\n",
    "for filepath in filepaths:\n",
    "    \n",
    "    dialogues = []\n",
    "    dialogue = []\n",
    "    book_lemmatized = []\n",
    "\n",
    "    with open(filepath, encoding='utf-8') as f:\n",
    "        text = f.readlines()\n",
    "        for line in text:\n",
    "            line = line.replace('\\n', '')\n",
    "            if line[0] == '—':\n",
    "                if dialogue:\n",
    "                    dialogues.append(' '.join(dialogue))\n",
    "                dialogue = [line]\n",
    "            else:\n",
    "                dialogue.append(line)\n",
    "        dialogues.append(' '.join(dialogue))\n",
    "                \n",
    "    pprint(dialogues[0])\n",
    "    for dialogue in tqdm(dialogues):\n",
    "        dialogue = dialogue.replace('.', '')\n",
    "        dialogue = [x for x in word_tokenize(dialogue) if x.isalpha()]\n",
    "        dialogue_lemmatized = []\n",
    "        for word in dialogue:\n",
    "            ana = morph.parse(word)[0]\n",
    "            # if 'Surn' not in ana.tag and 'Name' not in ana.tag:\n",
    "            dialogue_lemmatized.append(ana.normal_form)\n",
    "        if dialogue_lemmatized:\n",
    "            dialogue_lemmatized = ' '.join(dialogue_lemmatized)\n",
    "            book_lemmatized.append(dialogue_lemmatized)\n",
    "    \n",
    "    with open(filepath.replace('rus_corpus_docs', 'rus_corpus_lemmatized'), 'w', encoding='utf-8') as f:\n",
    "        f.write('\\n'.join(book_lemmatized))\n",
    "    "
   ],
   "metadata": {
    "collapsed": false,
    "pycharm": {
     "name": "#%%\n",
     "is_executing": false
    }
   }
  },
  {
   "cell_type": "code",
   "execution_count": 73,
   "outputs": [
    {
     "name": "stdout",
     "text": [
      "— Выпив залпом свой бокал, он бросил его на пол.\n",
      "\n"
     ],
     "output_type": "stream"
    }
   ],
   "source": [
    "print(text[-1])\n",
    "\n"
   ],
   "metadata": {
    "collapsed": false,
    "pycharm": {
     "name": "#%%\n",
     "is_executing": false
    }
   }
  }
 ],
 "metadata": {
  "kernelspec": {
   "display_name": "Python 3",
   "language": "python",
   "name": "python3"
  },
  "language_info": {
   "codemirror_mode": {
    "name": "ipython",
    "version": 2
   },
   "file_extension": ".py",
   "mimetype": "text/x-python",
   "name": "python",
   "nbconvert_exporter": "python",
   "pygments_lexer": "ipython2",
   "version": "2.7.6"
  },
  "pycharm": {
   "stem_cell": {
    "cell_type": "raw",
    "source": [],
    "metadata": {
     "collapsed": false
    }
   }
  }
 },
 "nbformat": 4,
 "nbformat_minor": 0
}