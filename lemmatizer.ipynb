{
 "cells": [
  {
   "cell_type": "code",
   "execution_count": null,
   "metadata": {
    "collapsed": true
   },
   "outputs": [],
   "source": [
    "import os\n",
    "from nltk.tokenize import word_tokenize\n",
    "\n",
    "from pymorphy2 import MorphAnalyzer\n",
    "morph = MorphAnalyzer()"
   ]
  },
  {
   "cell_type": "code",
   "execution_count": null,
   "outputs": [],
   "source": [
    "dir = 'russian_corpus'\n",
    "filepaths = []\n",
    "\n",
    "for i in os.listdir(dir):\n",
    "    filepaths.append(os.path.join(dir, i))  \n",
    "\n",
    "for filepath in filepaths[:1]:\n",
    "    with open(filepath, encoding='utf-8') as f:\n",
    "        text = f.read()\n",
    "        text.replace('.', '')\n",
    "        text = [x for x in word_tokenize(text) if x.isalpha()]\n",
    "        text_lemmatized = []\n",
    "        if text:\n",
    "            for word in text:\n",
    "                word = morph.parse(word)\n"
   ],
   "metadata": {
    "collapsed": false,
    "pycharm": {
     "name": "#%%\n"
    }
   }
  }
 ],
 "metadata": {
  "kernelspec": {
   "display_name": "Python 3",
   "language": "python",
   "name": "python3"
  },
  "language_info": {
   "codemirror_mode": {
    "name": "ipython",
    "version": 2
   },
   "file_extension": ".py",
   "mimetype": "text/x-python",
   "name": "python",
   "nbconvert_exporter": "python",
   "pygments_lexer": "ipython2",
   "version": "2.7.6"
  },
  "pycharm": {
   "stem_cell": {
    "cell_type": "raw",
    "source": [],
    "metadata": {
     "collapsed": false
    }
   }
  }
 },
 "nbformat": 4,
 "nbformat_minor": 0
}