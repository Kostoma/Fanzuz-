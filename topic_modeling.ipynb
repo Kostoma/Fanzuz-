{
 "cells": [
  {
   "cell_type": "code",
   "execution_count": 78,
   "metadata": {
    "collapsed": true,
    "pycharm": {
     "is_executing": false
    }
   },
   "outputs": [
    {
     "name": "stdout",
     "text": [
      "['french_corpus\\\\Анна Каренина. 19_0.txt', 'french_corpus\\\\Анна Каренина. 19_1.txt', 'french_corpus\\\\Анна Каренина. 19_2.txt', 'french_corpus\\\\Анна Каренина. 19_3.txt', 'french_corpus\\\\Анна Каренина. 19_4.txt', 'french_corpus\\\\Анна Каренина. 19_5.txt', 'french_corpus\\\\Анна Каренина. 19_6.txt', 'french_corpus\\\\Анна Каренина. 19_7.txt', 'french_corpus\\\\Анна Каренина. 19_8.txt', 'french_corpus\\\\Война и мир. 10_0.txt', 'french_corpus\\\\Война и мир. 10_1.txt', 'french_corpus\\\\Война и мир. 10_10.txt', 'french_corpus\\\\Война и мир. 10_11.txt', 'french_corpus\\\\Война и мир. 10_12.txt', 'french_corpus\\\\Война и мир. 10_13.txt', 'french_corpus\\\\Война и мир. 10_14.txt', 'french_corpus\\\\Война и мир. 10_15.txt', 'french_corpus\\\\Война и мир. 10_16.txt', 'french_corpus\\\\Война и мир. 10_17.txt', 'french_corpus\\\\Война и мир. 10_18.txt', 'french_corpus\\\\Война и мир. 10_19.txt', 'french_corpus\\\\Война и мир. 10_2.txt', 'french_corpus\\\\Война и мир. 10_20.txt', 'french_corpus\\\\Война и мир. 10_21.txt', 'french_corpus\\\\Война и мир. 10_22.txt', 'french_corpus\\\\Война и мир. 10_23.txt', 'french_corpus\\\\Война и мир. 10_24.txt', 'french_corpus\\\\Война и мир. 10_25.txt', 'french_corpus\\\\Война и мир. 10_26.txt', 'french_corpus\\\\Война и мир. 10_27.txt', 'french_corpus\\\\Война и мир. 10_28.txt', 'french_corpus\\\\Война и мир. 10_29.txt', 'french_corpus\\\\Война и мир. 10_3.txt', 'french_corpus\\\\Война и мир. 10_30.txt', 'french_corpus\\\\Война и мир. 10_31.txt', 'french_corpus\\\\Война и мир. 10_32.txt', 'french_corpus\\\\Война и мир. 10_33.txt', 'french_corpus\\\\Война и мир. 10_34.txt', 'french_corpus\\\\Война и мир. 10_35.txt', 'french_corpus\\\\Война и мир. 10_36.txt', 'french_corpus\\\\Война и мир. 10_37.txt', 'french_corpus\\\\Война и мир. 10_38.txt', 'french_corpus\\\\Война и мир. 10_39.txt', 'french_corpus\\\\Война и мир. 10_4.txt', 'french_corpus\\\\Война и мир. 10_40.txt', 'french_corpus\\\\Война и мир. 10_41.txt', 'french_corpus\\\\Война и мир. 10_42.txt', 'french_corpus\\\\Война и мир. 10_43.txt', 'french_corpus\\\\Война и мир. 10_44.txt', 'french_corpus\\\\Война и мир. 10_45.txt', 'french_corpus\\\\Война и мир. 10_46.txt', 'french_corpus\\\\Война и мир. 10_47.txt', 'french_corpus\\\\Война и мир. 10_48.txt', 'french_corpus\\\\Война и мир. 10_49.txt', 'french_corpus\\\\Война и мир. 10_5.txt', 'french_corpus\\\\Война и мир. 10_50.txt', 'french_corpus\\\\Война и мир. 10_51.txt', 'french_corpus\\\\Война и мир. 10_52.txt', 'french_corpus\\\\Война и мир. 10_53.txt', 'french_corpus\\\\Война и мир. 10_54.txt', 'french_corpus\\\\Война и мир. 10_55.txt', 'french_corpus\\\\Война и мир. 10_56.txt', 'french_corpus\\\\Война и мир. 10_57.txt', 'french_corpus\\\\Война и мир. 10_58.txt', 'french_corpus\\\\Война и мир. 10_59.txt', 'french_corpus\\\\Война и мир. 10_6.txt', 'french_corpus\\\\Война и мир. 10_60.txt', 'french_corpus\\\\Война и мир. 10_61.txt', 'french_corpus\\\\Война и мир. 10_62.txt', 'french_corpus\\\\Война и мир. 10_63.txt', 'french_corpus\\\\Война и мир. 10_64.txt', 'french_corpus\\\\Война и мир. 10_65.txt', 'french_corpus\\\\Война и мир. 10_66.txt', 'french_corpus\\\\Война и мир. 10_7.txt', 'french_corpus\\\\Война и мир. 10_8.txt', 'french_corpus\\\\Война и мир. 10_9.txt', 'french_corpus\\\\Война и мир. 11_0.txt', 'french_corpus\\\\Война и мир. 11_1.txt', 'french_corpus\\\\Война и мир. 11_10.txt', 'french_corpus\\\\Война и мир. 11_100.txt', 'french_corpus\\\\Война и мир. 11_101.txt', 'french_corpus\\\\Война и мир. 11_102.txt', 'french_corpus\\\\Война и мир. 11_103.txt', 'french_corpus\\\\Война и мир. 11_104.txt', 'french_corpus\\\\Война и мир. 11_105.txt', 'french_corpus\\\\Война и мир. 11_106.txt', 'french_corpus\\\\Война и мир. 11_107.txt', 'french_corpus\\\\Война и мир. 11_108.txt', 'french_corpus\\\\Война и мир. 11_109.txt', 'french_corpus\\\\Война и мир. 11_11.txt', 'french_corpus\\\\Война и мир. 11_110.txt', 'french_corpus\\\\Война и мир. 11_111.txt', 'french_corpus\\\\Война и мир. 11_112.txt', 'french_corpus\\\\Война и мир. 11_113.txt', 'french_corpus\\\\Война и мир. 11_114.txt', 'french_corpus\\\\Война и мир. 11_115.txt', 'french_corpus\\\\Война и мир. 11_116.txt', 'french_corpus\\\\Война и мир. 11_117.txt', 'french_corpus\\\\Война и мир. 11_118.txt', 'french_corpus\\\\Война и мир. 11_119.txt', 'french_corpus\\\\Война и мир. 11_12.txt', 'french_corpus\\\\Война и мир. 11_120.txt', 'french_corpus\\\\Война и мир. 11_121.txt', 'french_corpus\\\\Война и мир. 11_122.txt', 'french_corpus\\\\Война и мир. 11_123.txt', 'french_corpus\\\\Война и мир. 11_124.txt', 'french_corpus\\\\Война и мир. 11_125.txt', 'french_corpus\\\\Война и мир. 11_126.txt', 'french_corpus\\\\Война и мир. 11_127.txt', 'french_corpus\\\\Война и мир. 11_128.txt', 'french_corpus\\\\Война и мир. 11_129.txt', 'french_corpus\\\\Война и мир. 11_13.txt', 'french_corpus\\\\Война и мир. 11_130.txt', 'french_corpus\\\\Война и мир. 11_131.txt', 'french_corpus\\\\Война и мир. 11_132.txt', 'french_corpus\\\\Война и мир. 11_133.txt', 'french_corpus\\\\Война и мир. 11_134.txt', 'french_corpus\\\\Война и мир. 11_135.txt', 'french_corpus\\\\Война и мир. 11_136.txt', 'french_corpus\\\\Война и мир. 11_137.txt', 'french_corpus\\\\Война и мир. 11_138.txt', 'french_corpus\\\\Война и мир. 11_139.txt', 'french_corpus\\\\Война и мир. 11_14.txt', 'french_corpus\\\\Война и мир. 11_140.txt', 'french_corpus\\\\Война и мир. 11_141.txt', 'french_corpus\\\\Война и мир. 11_142.txt', 'french_corpus\\\\Война и мир. 11_143.txt', 'french_corpus\\\\Война и мир. 11_144.txt', 'french_corpus\\\\Война и мир. 11_145.txt', 'french_corpus\\\\Война и мир. 11_146.txt', 'french_corpus\\\\Война и мир. 11_147.txt', 'french_corpus\\\\Война и мир. 11_148.txt', 'french_corpus\\\\Война и мир. 11_149.txt', 'french_corpus\\\\Война и мир. 11_15.txt', 'french_corpus\\\\Война и мир. 11_150.txt', 'french_corpus\\\\Война и мир. 11_151.txt', 'french_corpus\\\\Война и мир. 11_152.txt', 'french_corpus\\\\Война и мир. 11_153.txt', 'french_corpus\\\\Война и мир. 11_154.txt', 'french_corpus\\\\Война и мир. 11_155.txt', 'french_corpus\\\\Война и мир. 11_156.txt', 'french_corpus\\\\Война и мир. 11_157.txt', 'french_corpus\\\\Война и мир. 11_158.txt', 'french_corpus\\\\Война и мир. 11_159.txt', 'french_corpus\\\\Война и мир. 11_16.txt', 'french_corpus\\\\Война и мир. 11_160.txt', 'french_corpus\\\\Война и мир. 11_161.txt', 'french_corpus\\\\Война и мир. 11_162.txt', 'french_corpus\\\\Война и мир. 11_163.txt', 'french_corpus\\\\Война и мир. 11_164.txt', 'french_corpus\\\\Война и мир. 11_165.txt', 'french_corpus\\\\Война и мир. 11_166.txt', 'french_corpus\\\\Война и мир. 11_167.txt', 'french_corpus\\\\Война и мир. 11_168.txt', 'french_corpus\\\\Война и мир. 11_169.txt', 'french_corpus\\\\Война и мир. 11_17.txt', 'french_corpus\\\\Война и мир. 11_170.txt', 'french_corpus\\\\Война и мир. 11_171.txt', 'french_corpus\\\\Война и мир. 11_172.txt', 'french_corpus\\\\Война и мир. 11_173.txt', 'french_corpus\\\\Война и мир. 11_174.txt', 'french_corpus\\\\Война и мир. 11_175.txt', 'french_corpus\\\\Война и мир. 11_176.txt', 'french_corpus\\\\Война и мир. 11_177.txt', 'french_corpus\\\\Война и мир. 11_178.txt', 'french_corpus\\\\Война и мир. 11_179.txt', 'french_corpus\\\\Война и мир. 11_18.txt', 'french_corpus\\\\Война и мир. 11_180.txt', 'french_corpus\\\\Война и мир. 11_181.txt', 'french_corpus\\\\Война и мир. 11_182.txt', 'french_corpus\\\\Война и мир. 11_183.txt', 'french_corpus\\\\Война и мир. 11_184.txt', 'french_corpus\\\\Война и мир. 11_185.txt', 'french_corpus\\\\Война и мир. 11_186.txt', 'french_corpus\\\\Война и мир. 11_187.txt', 'french_corpus\\\\Война и мир. 11_188.txt', 'french_corpus\\\\Война и мир. 11_189.txt', 'french_corpus\\\\Война и мир. 11_19.txt', 'french_corpus\\\\Война и мир. 11_190.txt', 'french_corpus\\\\Война и мир. 11_191.txt', 'french_corpus\\\\Война и мир. 11_192.txt', 'french_corpus\\\\Война и мир. 11_193.txt', 'french_corpus\\\\Война и мир. 11_194.txt', 'french_corpus\\\\Война и мир. 11_195.txt', 'french_corpus\\\\Война и мир. 11_196.txt', 'french_corpus\\\\Война и мир. 11_197.txt', 'french_corpus\\\\Война и мир. 11_198.txt', 'french_corpus\\\\Война и мир. 11_199.txt', 'french_corpus\\\\Война и мир. 11_2.txt', 'french_corpus\\\\Война и мир. 11_20.txt', 'french_corpus\\\\Война и мир. 11_200.txt', 'french_corpus\\\\Война и мир. 11_201.txt', 'french_corpus\\\\Война и мир. 11_202.txt', 'french_corpus\\\\Война и мир. 11_203.txt', 'french_corpus\\\\Война и мир. 11_204.txt', 'french_corpus\\\\Война и мир. 11_205.txt', 'french_corpus\\\\Война и мир. 11_206.txt', 'french_corpus\\\\Война и мир. 11_207.txt', 'french_corpus\\\\Война и мир. 11_208.txt', 'french_corpus\\\\Война и мир. 11_209.txt', 'french_corpus\\\\Война и мир. 11_21.txt', 'french_corpus\\\\Война и мир. 11_210.txt', 'french_corpus\\\\Война и мир. 11_211.txt', 'french_corpus\\\\Война и мир. 11_212.txt', 'french_corpus\\\\Война и мир. 11_213.txt', 'french_corpus\\\\Война и мир. 11_214.txt', 'french_corpus\\\\Война и мир. 11_215.txt', 'french_corpus\\\\Война и мир. 11_216.txt', 'french_corpus\\\\Война и мир. 11_217.txt', 'french_corpus\\\\Война и мир. 11_218.txt', 'french_corpus\\\\Война и мир. 11_219.txt', 'french_corpus\\\\Война и мир. 11_22.txt', 'french_corpus\\\\Война и мир. 11_220.txt', 'french_corpus\\\\Война и мир. 11_221.txt', 'french_corpus\\\\Война и мир. 11_222.txt', 'french_corpus\\\\Война и мир. 11_223.txt', 'french_corpus\\\\Война и мир. 11_224.txt', 'french_corpus\\\\Война и мир. 11_225.txt', 'french_corpus\\\\Война и мир. 11_226.txt', 'french_corpus\\\\Война и мир. 11_227.txt', 'french_corpus\\\\Война и мир. 11_228.txt', 'french_corpus\\\\Война и мир. 11_229.txt', 'french_corpus\\\\Война и мир. 11_23.txt', 'french_corpus\\\\Война и мир. 11_230.txt', 'french_corpus\\\\Война и мир. 11_231.txt', 'french_corpus\\\\Война и мир. 11_232.txt', 'french_corpus\\\\Война и мир. 11_233.txt', 'french_corpus\\\\Война и мир. 11_234.txt', 'french_corpus\\\\Война и мир. 11_235.txt', 'french_corpus\\\\Война и мир. 11_236.txt', 'french_corpus\\\\Война и мир. 11_237.txt', 'french_corpus\\\\Война и мир. 11_238.txt', 'french_corpus\\\\Война и мир. 11_239.txt', 'french_corpus\\\\Война и мир. 11_24.txt', 'french_corpus\\\\Война и мир. 11_240.txt', 'french_corpus\\\\Война и мир. 11_25.txt', 'french_corpus\\\\Война и мир. 11_26.txt', 'french_corpus\\\\Война и мир. 11_27.txt', 'french_corpus\\\\Война и мир. 11_28.txt', 'french_corpus\\\\Война и мир. 11_29.txt', 'french_corpus\\\\Война и мир. 11_3.txt', 'french_corpus\\\\Война и мир. 11_30.txt', 'french_corpus\\\\Война и мир. 11_31.txt', 'french_corpus\\\\Война и мир. 11_32.txt', 'french_corpus\\\\Война и мир. 11_33.txt', 'french_corpus\\\\Война и мир. 11_34.txt', 'french_corpus\\\\Война и мир. 11_35.txt', 'french_corpus\\\\Война и мир. 11_36.txt', 'french_corpus\\\\Война и мир. 11_37.txt', 'french_corpus\\\\Война и мир. 11_38.txt', 'french_corpus\\\\Война и мир. 11_39.txt', 'french_corpus\\\\Война и мир. 11_4.txt', 'french_corpus\\\\Война и мир. 11_40.txt', 'french_corpus\\\\Война и мир. 11_41.txt', 'french_corpus\\\\Война и мир. 11_42.txt', 'french_corpus\\\\Война и мир. 11_43.txt', 'french_corpus\\\\Война и мир. 11_44.txt', 'french_corpus\\\\Война и мир. 11_45.txt', 'french_corpus\\\\Война и мир. 11_46.txt', 'french_corpus\\\\Война и мир. 11_47.txt', 'french_corpus\\\\Война и мир. 11_48.txt', 'french_corpus\\\\Война и мир. 11_49.txt', 'french_corpus\\\\Война и мир. 11_5.txt', 'french_corpus\\\\Война и мир. 11_50.txt', 'french_corpus\\\\Война и мир. 11_51.txt', 'french_corpus\\\\Война и мир. 11_52.txt', 'french_corpus\\\\Война и мир. 11_53.txt', 'french_corpus\\\\Война и мир. 11_54.txt', 'french_corpus\\\\Война и мир. 11_55.txt', 'french_corpus\\\\Война и мир. 11_56.txt', 'french_corpus\\\\Война и мир. 11_57.txt', 'french_corpus\\\\Война и мир. 11_58.txt', 'french_corpus\\\\Война и мир. 11_59.txt', 'french_corpus\\\\Война и мир. 11_6.txt', 'french_corpus\\\\Война и мир. 11_60.txt', 'french_corpus\\\\Война и мир. 11_61.txt', 'french_corpus\\\\Война и мир. 11_62.txt', 'french_corpus\\\\Война и мир. 11_63.txt', 'french_corpus\\\\Война и мир. 11_64.txt', 'french_corpus\\\\Война и мир. 11_65.txt', 'french_corpus\\\\Война и мир. 11_66.txt', 'french_corpus\\\\Война и мир. 11_67.txt', 'french_corpus\\\\Война и мир. 11_68.txt', 'french_corpus\\\\Война и мир. 11_69.txt', 'french_corpus\\\\Война и мир. 11_7.txt', 'french_corpus\\\\Война и мир. 11_70.txt', 'french_corpus\\\\Война и мир. 11_71.txt', 'french_corpus\\\\Война и мир. 11_72.txt', 'french_corpus\\\\Война и мир. 11_73.txt', 'french_corpus\\\\Война и мир. 11_74.txt', 'french_corpus\\\\Война и мир. 11_75.txt', 'french_corpus\\\\Война и мир. 11_76.txt', 'french_corpus\\\\Война и мир. 11_77.txt', 'french_corpus\\\\Война и мир. 11_78.txt', 'french_corpus\\\\Война и мир. 11_79.txt', 'french_corpus\\\\Война и мир. 11_8.txt', 'french_corpus\\\\Война и мир. 11_80.txt', 'french_corpus\\\\Война и мир. 11_81.txt', 'french_corpus\\\\Война и мир. 11_82.txt', 'french_corpus\\\\Война и мир. 11_83.txt', 'french_corpus\\\\Война и мир. 11_84.txt', 'french_corpus\\\\Война и мир. 11_85.txt', 'french_corpus\\\\Война и мир. 11_86.txt', 'french_corpus\\\\Война и мир. 11_87.txt', 'french_corpus\\\\Война и мир. 11_88.txt', 'french_corpus\\\\Война и мир. 11_89.txt', 'french_corpus\\\\Война и мир. 11_9.txt', 'french_corpus\\\\Война и мир. 11_90.txt', 'french_corpus\\\\Война и мир. 11_91.txt', 'french_corpus\\\\Война и мир. 11_92.txt', 'french_corpus\\\\Война и мир. 11_93.txt', 'french_corpus\\\\Война и мир. 11_94.txt', 'french_corpus\\\\Война и мир. 11_95.txt', 'french_corpus\\\\Война и мир. 11_96.txt', 'french_corpus\\\\Война и мир. 11_97.txt', 'french_corpus\\\\Война и мир. 11_98.txt', 'french_corpus\\\\Война и мир. 11_99.txt', 'french_corpus\\\\Война и мир. 12_0.txt', 'french_corpus\\\\Война и мир. 12_1.txt', 'french_corpus\\\\Война и мир. 12_10.txt', 'french_corpus\\\\Война и мир. 12_11.txt', 'french_corpus\\\\Война и мир. 12_12.txt', 'french_corpus\\\\Война и мир. 12_13.txt', 'french_corpus\\\\Война и мир. 12_14.txt', 'french_corpus\\\\Война и мир. 12_15.txt', 'french_corpus\\\\Война и мир. 12_16.txt', 'french_corpus\\\\Война и мир. 12_17.txt', 'french_corpus\\\\Война и мир. 12_18.txt', 'french_corpus\\\\Война и мир. 12_19.txt', 'french_corpus\\\\Война и мир. 12_2.txt', 'french_corpus\\\\Война и мир. 12_20.txt', 'french_corpus\\\\Война и мир. 12_21.txt', 'french_corpus\\\\Война и мир. 12_22.txt', 'french_corpus\\\\Война и мир. 12_23.txt', 'french_corpus\\\\Война и мир. 12_24.txt', 'french_corpus\\\\Война и мир. 12_25.txt', 'french_corpus\\\\Война и мир. 12_26.txt', 'french_corpus\\\\Война и мир. 12_27.txt', 'french_corpus\\\\Война и мир. 12_28.txt', 'french_corpus\\\\Война и мир. 12_29.txt', 'french_corpus\\\\Война и мир. 12_3.txt', 'french_corpus\\\\Война и мир. 12_30.txt', 'french_corpus\\\\Война и мир. 12_31.txt', 'french_corpus\\\\Война и мир. 12_32.txt', 'french_corpus\\\\Война и мир. 12_33.txt', 'french_corpus\\\\Война и мир. 12_34.txt', 'french_corpus\\\\Война и мир. 12_35.txt', 'french_corpus\\\\Война и мир. 12_36.txt', 'french_corpus\\\\Война и мир. 12_37.txt', 'french_corpus\\\\Война и мир. 12_38.txt', 'french_corpus\\\\Война и мир. 12_39.txt', 'french_corpus\\\\Война и мир. 12_4.txt', 'french_corpus\\\\Война и мир. 12_40.txt', 'french_corpus\\\\Война и мир. 12_41.txt', 'french_corpus\\\\Война и мир. 12_42.txt', 'french_corpus\\\\Война и мир. 12_43.txt', 'french_corpus\\\\Война и мир. 12_44.txt', 'french_corpus\\\\Война и мир. 12_45.txt', 'french_corpus\\\\Война и мир. 12_46.txt', 'french_corpus\\\\Война и мир. 12_47.txt', 'french_corpus\\\\Война и мир. 12_48.txt', 'french_corpus\\\\Война и мир. 12_49.txt', 'french_corpus\\\\Война и мир. 12_5.txt', 'french_corpus\\\\Война и мир. 12_50.txt', 'french_corpus\\\\Война и мир. 12_51.txt', 'french_corpus\\\\Война и мир. 12_52.txt', 'french_corpus\\\\Война и мир. 12_53.txt', 'french_corpus\\\\Война и мир. 12_54.txt', 'french_corpus\\\\Война и мир. 12_55.txt', 'french_corpus\\\\Война и мир. 12_56.txt', 'french_corpus\\\\Война и мир. 12_57.txt', 'french_corpus\\\\Война и мир. 12_58.txt', 'french_corpus\\\\Война и мир. 12_59.txt', 'french_corpus\\\\Война и мир. 12_6.txt', 'french_corpus\\\\Война и мир. 12_60.txt', 'french_corpus\\\\Война и мир. 12_61.txt', 'french_corpus\\\\Война и мир. 12_62.txt', 'french_corpus\\\\Война и мир. 12_63.txt', 'french_corpus\\\\Война и мир. 12_64.txt', 'french_corpus\\\\Война и мир. 12_65.txt', 'french_corpus\\\\Война и мир. 12_66.txt', 'french_corpus\\\\Война и мир. 12_67.txt', 'french_corpus\\\\Война и мир. 12_68.txt', 'french_corpus\\\\Война и мир. 12_69.txt', 'french_corpus\\\\Война и мир. 12_7.txt', 'french_corpus\\\\Война и мир. 12_70.txt', 'french_corpus\\\\Война и мир. 12_71.txt', 'french_corpus\\\\Война и мир. 12_72.txt', 'french_corpus\\\\Война и мир. 12_73.txt', 'french_corpus\\\\Война и мир. 12_74.txt', 'french_corpus\\\\Война и мир. 12_75.txt', 'french_corpus\\\\Война и мир. 12_76.txt', 'french_corpus\\\\Война и мир. 12_77.txt', 'french_corpus\\\\Война и мир. 12_78.txt', 'french_corpus\\\\Война и мир. 12_8.txt', 'french_corpus\\\\Война и мир. 12_9.txt', 'french_corpus\\\\Война и мир. 9_0.txt', 'french_corpus\\\\Война и мир. 9_1.txt', 'french_corpus\\\\Война и мир. 9_10.txt', 'french_corpus\\\\Война и мир. 9_100.txt', 'french_corpus\\\\Война и мир. 9_101.txt', 'french_corpus\\\\Война и мир. 9_102.txt', 'french_corpus\\\\Война и мир. 9_103.txt', 'french_corpus\\\\Война и мир. 9_104.txt', 'french_corpus\\\\Война и мир. 9_105.txt', 'french_corpus\\\\Война и мир. 9_106.txt', 'french_corpus\\\\Война и мир. 9_107.txt', 'french_corpus\\\\Война и мир. 9_108.txt', 'french_corpus\\\\Война и мир. 9_109.txt', 'french_corpus\\\\Война и мир. 9_11.txt', 'french_corpus\\\\Война и мир. 9_110.txt', 'french_corpus\\\\Война и мир. 9_111.txt', 'french_corpus\\\\Война и мир. 9_112.txt', 'french_corpus\\\\Война и мир. 9_113.txt', 'french_corpus\\\\Война и мир. 9_114.txt', 'french_corpus\\\\Война и мир. 9_115.txt', 'french_corpus\\\\Война и мир. 9_116.txt', 'french_corpus\\\\Война и мир. 9_117.txt', 'french_corpus\\\\Война и мир. 9_118.txt', 'french_corpus\\\\Война и мир. 9_119.txt', 'french_corpus\\\\Война и мир. 9_12.txt', 'french_corpus\\\\Война и мир. 9_120.txt', 'french_corpus\\\\Война и мир. 9_121.txt', 'french_corpus\\\\Война и мир. 9_122.txt', 'french_corpus\\\\Война и мир. 9_123.txt', 'french_corpus\\\\Война и мир. 9_124.txt', 'french_corpus\\\\Война и мир. 9_125.txt', 'french_corpus\\\\Война и мир. 9_126.txt', 'french_corpus\\\\Война и мир. 9_127.txt', 'french_corpus\\\\Война и мир. 9_128.txt', 'french_corpus\\\\Война и мир. 9_129.txt', 'french_corpus\\\\Война и мир. 9_13.txt', 'french_corpus\\\\Война и мир. 9_130.txt', 'french_corpus\\\\Война и мир. 9_131.txt', 'french_corpus\\\\Война и мир. 9_132.txt', 'french_corpus\\\\Война и мир. 9_133.txt', 'french_corpus\\\\Война и мир. 9_134.txt', 'french_corpus\\\\Война и мир. 9_135.txt', 'french_corpus\\\\Война и мир. 9_136.txt', 'french_corpus\\\\Война и мир. 9_137.txt', 'french_corpus\\\\Война и мир. 9_138.txt', 'french_corpus\\\\Война и мир. 9_139.txt', 'french_corpus\\\\Война и мир. 9_14.txt', 'french_corpus\\\\Война и мир. 9_140.txt', 'french_corpus\\\\Война и мир. 9_141.txt', 'french_corpus\\\\Война и мир. 9_142.txt', 'french_corpus\\\\Война и мир. 9_143.txt', 'french_corpus\\\\Война и мир. 9_144.txt', 'french_corpus\\\\Война и мир. 9_145.txt', 'french_corpus\\\\Война и мир. 9_146.txt', 'french_corpus\\\\Война и мир. 9_147.txt', 'french_corpus\\\\Война и мир. 9_148.txt', 'french_corpus\\\\Война и мир. 9_149.txt', 'french_corpus\\\\Война и мир. 9_15.txt', 'french_corpus\\\\Война и мир. 9_150.txt', 'french_corpus\\\\Война и мир. 9_151.txt', 'french_corpus\\\\Война и мир. 9_152.txt', 'french_corpus\\\\Война и мир. 9_153.txt', 'french_corpus\\\\Война и мир. 9_154.txt', 'french_corpus\\\\Война и мир. 9_155.txt', 'french_corpus\\\\Война и мир. 9_156.txt', 'french_corpus\\\\Война и мир. 9_157.txt', 'french_corpus\\\\Война и мир. 9_158.txt', 'french_corpus\\\\Война и мир. 9_159.txt', 'french_corpus\\\\Война и мир. 9_16.txt', 'french_corpus\\\\Война и мир. 9_160.txt', 'french_corpus\\\\Война и мир. 9_161.txt', 'french_corpus\\\\Война и мир. 9_162.txt', 'french_corpus\\\\Война и мир. 9_163.txt', 'french_corpus\\\\Война и мир. 9_164.txt', 'french_corpus\\\\Война и мир. 9_165.txt', 'french_corpus\\\\Война и мир. 9_166.txt', 'french_corpus\\\\Война и мир. 9_167.txt', 'french_corpus\\\\Война и мир. 9_168.txt', 'french_corpus\\\\Война и мир. 9_169.txt', 'french_corpus\\\\Война и мир. 9_17.txt', 'french_corpus\\\\Война и мир. 9_170.txt', 'french_corpus\\\\Война и мир. 9_171.txt', 'french_corpus\\\\Война и мир. 9_172.txt', 'french_corpus\\\\Война и мир. 9_173.txt', 'french_corpus\\\\Война и мир. 9_174.txt', 'french_corpus\\\\Война и мир. 9_175.txt', 'french_corpus\\\\Война и мир. 9_176.txt', 'french_corpus\\\\Война и мир. 9_177.txt', 'french_corpus\\\\Война и мир. 9_178.txt', 'french_corpus\\\\Война и мир. 9_179.txt', 'french_corpus\\\\Война и мир. 9_18.txt', 'french_corpus\\\\Война и мир. 9_180.txt', 'french_corpus\\\\Война и мир. 9_181.txt', 'french_corpus\\\\Война и мир. 9_182.txt', 'french_corpus\\\\Война и мир. 9_183.txt', 'french_corpus\\\\Война и мир. 9_184.txt', 'french_corpus\\\\Война и мир. 9_185.txt', 'french_corpus\\\\Война и мир. 9_186.txt', 'french_corpus\\\\Война и мир. 9_187.txt', 'french_corpus\\\\Война и мир. 9_188.txt', 'french_corpus\\\\Война и мир. 9_189.txt', 'french_corpus\\\\Война и мир. 9_19.txt', 'french_corpus\\\\Война и мир. 9_190.txt', 'french_corpus\\\\Война и мир. 9_191.txt', 'french_corpus\\\\Война и мир. 9_192.txt', 'french_corpus\\\\Война и мир. 9_193.txt', 'french_corpus\\\\Война и мир. 9_194.txt', 'french_corpus\\\\Война и мир. 9_195.txt', 'french_corpus\\\\Война и мир. 9_196.txt', 'french_corpus\\\\Война и мир. 9_197.txt', 'french_corpus\\\\Война и мир. 9_198.txt', 'french_corpus\\\\Война и мир. 9_199.txt', 'french_corpus\\\\Война и мир. 9_2.txt', 'french_corpus\\\\Война и мир. 9_20.txt', 'french_corpus\\\\Война и мир. 9_200.txt', 'french_corpus\\\\Война и мир. 9_201.txt', 'french_corpus\\\\Война и мир. 9_202.txt', 'french_corpus\\\\Война и мир. 9_203.txt', 'french_corpus\\\\Война и мир. 9_204.txt', 'french_corpus\\\\Война и мир. 9_205.txt', 'french_corpus\\\\Война и мир. 9_206.txt', 'french_corpus\\\\Война и мир. 9_207.txt', 'french_corpus\\\\Война и мир. 9_208.txt', 'french_corpus\\\\Война и мир. 9_209.txt', 'french_corpus\\\\Война и мир. 9_21.txt', 'french_corpus\\\\Война и мир. 9_210.txt', 'french_corpus\\\\Война и мир. 9_211.txt', 'french_corpus\\\\Война и мир. 9_212.txt', 'french_corpus\\\\Война и мир. 9_213.txt', 'french_corpus\\\\Война и мир. 9_214.txt', 'french_corpus\\\\Война и мир. 9_215.txt', 'french_corpus\\\\Война и мир. 9_216.txt', 'french_corpus\\\\Война и мир. 9_22.txt', 'french_corpus\\\\Война и мир. 9_23.txt', 'french_corpus\\\\Война и мир. 9_24.txt', 'french_corpus\\\\Война и мир. 9_25.txt', 'french_corpus\\\\Война и мир. 9_26.txt', 'french_corpus\\\\Война и мир. 9_27.txt', 'french_corpus\\\\Война и мир. 9_28.txt', 'french_corpus\\\\Война и мир. 9_29.txt', 'french_corpus\\\\Война и мир. 9_3.txt', 'french_corpus\\\\Война и мир. 9_30.txt', 'french_corpus\\\\Война и мир. 9_31.txt', 'french_corpus\\\\Война и мир. 9_32.txt', 'french_corpus\\\\Война и мир. 9_33.txt', 'french_corpus\\\\Война и мир. 9_34.txt', 'french_corpus\\\\Война и мир. 9_35.txt', 'french_corpus\\\\Война и мир. 9_36.txt', 'french_corpus\\\\Война и мир. 9_37.txt', 'french_corpus\\\\Война и мир. 9_38.txt', 'french_corpus\\\\Война и мир. 9_39.txt', 'french_corpus\\\\Война и мир. 9_4.txt', 'french_corpus\\\\Война и мир. 9_40.txt', 'french_corpus\\\\Война и мир. 9_41.txt', 'french_corpus\\\\Война и мир. 9_42.txt', 'french_corpus\\\\Война и мир. 9_43.txt', 'french_corpus\\\\Война и мир. 9_44.txt', 'french_corpus\\\\Война и мир. 9_45.txt', 'french_corpus\\\\Война и мир. 9_46.txt', 'french_corpus\\\\Война и мир. 9_47.txt', 'french_corpus\\\\Война и мир. 9_48.txt', 'french_corpus\\\\Война и мир. 9_49.txt', 'french_corpus\\\\Война и мир. 9_5.txt', 'french_corpus\\\\Война и мир. 9_50.txt', 'french_corpus\\\\Война и мир. 9_51.txt', 'french_corpus\\\\Война и мир. 9_52.txt', 'french_corpus\\\\Война и мир. 9_53.txt', 'french_corpus\\\\Война и мир. 9_54.txt', 'french_corpus\\\\Война и мир. 9_55.txt', 'french_corpus\\\\Война и мир. 9_56.txt', 'french_corpus\\\\Война и мир. 9_57.txt', 'french_corpus\\\\Война и мир. 9_58.txt', 'french_corpus\\\\Война и мир. 9_59.txt', 'french_corpus\\\\Война и мир. 9_6.txt', 'french_corpus\\\\Война и мир. 9_60.txt', 'french_corpus\\\\Война и мир. 9_61.txt', 'french_corpus\\\\Война и мир. 9_62.txt', 'french_corpus\\\\Война и мир. 9_63.txt', 'french_corpus\\\\Война и мир. 9_64.txt', 'french_corpus\\\\Война и мир. 9_65.txt', 'french_corpus\\\\Война и мир. 9_66.txt', 'french_corpus\\\\Война и мир. 9_67.txt', 'french_corpus\\\\Война и мир. 9_68.txt', 'french_corpus\\\\Война и мир. 9_69.txt', 'french_corpus\\\\Война и мир. 9_7.txt', 'french_corpus\\\\Война и мир. 9_70.txt', 'french_corpus\\\\Война и мир. 9_71.txt', 'french_corpus\\\\Война и мир. 9_72.txt', 'french_corpus\\\\Война и мир. 9_73.txt', 'french_corpus\\\\Война и мир. 9_74.txt', 'french_corpus\\\\Война и мир. 9_75.txt', 'french_corpus\\\\Война и мир. 9_76.txt', 'french_corpus\\\\Война и мир. 9_77.txt', 'french_corpus\\\\Война и мир. 9_78.txt', 'french_corpus\\\\Война и мир. 9_79.txt', 'french_corpus\\\\Война и мир. 9_8.txt', 'french_corpus\\\\Война и мир. 9_80.txt', 'french_corpus\\\\Война и мир. 9_81.txt', 'french_corpus\\\\Война и мир. 9_82.txt', 'french_corpus\\\\Война и мир. 9_83.txt', 'french_corpus\\\\Война и мир. 9_84.txt', 'french_corpus\\\\Война и мир. 9_85.txt', 'french_corpus\\\\Война и мир. 9_86.txt', 'french_corpus\\\\Война и мир. 9_87.txt', 'french_corpus\\\\Война и мир. 9_88.txt', 'french_corpus\\\\Война и мир. 9_89.txt', 'french_corpus\\\\Война и мир. 9_9.txt', 'french_corpus\\\\Война и мир. 9_90.txt', 'french_corpus\\\\Война и мир. 9_91.txt', 'french_corpus\\\\Война и мир. 9_92.txt', 'french_corpus\\\\Война и мир. 9_93.txt', 'french_corpus\\\\Война и мир. 9_94.txt', 'french_corpus\\\\Война и мир. 9_95.txt', 'french_corpus\\\\Война и мир. 9_96.txt', 'french_corpus\\\\Война и мир. 9_97.txt', 'french_corpus\\\\Война и мир. 9_98.txt', 'french_corpus\\\\Война и мир. 9_99.txt', 'french_corpus\\\\Два гусара. Повесть. 3_0.txt', 'french_corpus\\\\Декабристы. 17_0.txt', 'french_corpus\\\\Детство 1_0.txt', 'french_corpus\\\\Детство 1_1.txt', 'french_corpus\\\\Из записок князя Д. Нехлюдова (Люцерн) 5_0.txt', 'french_corpus\\\\Из записок князя Д. Нехлюдова (Люцерн) 5_1.txt', 'french_corpus\\\\Из кавказских воспоминаний. Разжалованный 3_0.txt', 'french_corpus\\\\Из кавказских воспоминаний. Разжалованный 3_1.txt', 'french_corpus\\\\Из кавказских воспоминаний. Разжалованный 3_10.txt', 'french_corpus\\\\Из кавказских воспоминаний. Разжалованный 3_2.txt', 'french_corpus\\\\Из кавказских воспоминаний. Разжалованный 3_3.txt', 'french_corpus\\\\Из кавказских воспоминаний. Разжалованный 3_4.txt', 'french_corpus\\\\Из кавказских воспоминаний. Разжалованный 3_5.txt', 'french_corpus\\\\Из кавказских воспоминаний. Разжалованный 3_6.txt', 'french_corpus\\\\Из кавказских воспоминаний. Разжалованный 3_7.txt', 'french_corpus\\\\Из кавказских воспоминаний. Разжалованный 3_8.txt', 'french_corpus\\\\Из кавказских воспоминаний. Разжалованный 3_9.txt', 'french_corpus\\\\Набег. Рассказ волонтера. 3_0.txt', 'french_corpus\\\\Набег. Рассказ волонтера. 3_1.txt', 'french_corpus\\\\Набег. Рассказ волонтера. 3_2.txt', 'french_corpus\\\\Набег. Рассказ волонтера. 3_3.txt', 'french_corpus\\\\Набег. Рассказ волонтера. 3_4.txt', 'french_corpus\\\\Семейное счастие 5_0.txt', 'french_corpus\\\\Смерть Ивана Ильича. 26_0.txt', 'french_corpus\\\\Хаджи–Мурат. 35_0.txt', 'french_corpus\\\\Хаджи–Мурат. 35_1.txt', 'french_corpus\\\\Хаджи–Мурат. 35_10.txt', 'french_corpus\\\\Хаджи–Мурат. 35_11.txt', 'french_corpus\\\\Хаджи–Мурат. 35_12.txt', 'french_corpus\\\\Хаджи–Мурат. 35_13.txt', 'french_corpus\\\\Хаджи–Мурат. 35_14.txt', 'french_corpus\\\\Хаджи–Мурат. 35_15.txt', 'french_corpus\\\\Хаджи–Мурат. 35_16.txt', 'french_corpus\\\\Хаджи–Мурат. 35_2.txt', 'french_corpus\\\\Хаджи–Мурат. 35_3.txt', 'french_corpus\\\\Хаджи–Мурат. 35_4.txt', 'french_corpus\\\\Хаджи–Мурат. 35_5.txt', 'french_corpus\\\\Хаджи–Мурат. 35_6.txt', 'french_corpus\\\\Хаджи–Мурат. 35_7.txt', 'french_corpus\\\\Хаджи–Мурат. 35_8.txt', 'french_corpus\\\\Хаджи–Мурат. 35_9.txt']\n",
      "2065\n",
      "654\n"
     ],
     "output_type": "stream"
    }
   ],
   "source": [
    "import os\n",
    "from nltk.tokenize import word_tokenize\n",
    "\n",
    "dir = 'french_corpus'\n",
    "filepaths = []\n",
    "\n",
    "for i in os.listdir(dir):\n",
    "    filepaths.append(os.path.join(dir, i))\n",
    "print(filepaths)\n",
    "\n",
    "french_corpus = []\n",
    "french_tokens = []\n",
    "\n",
    "for filepath in filepaths:\n",
    "    with open(filepath, encoding='utf-8') as f:\n",
    "        text = f.read()\n",
    "        french_corpus.append(text)\n",
    "        text.replace('.', '')\n",
    "        french_tokens.extend(word_tokenize(text))\n",
    "\n",
    "french_tokens = set(french_tokens)\n",
    "print(len(french_tokens))\n",
    "print(len(french_corpus))\n",
    "\n",
    "with open('fr_stop_words.txt', encoding='utf-8') as f:\n",
    "    STOPWORDS = f.read().split()"
   ]
  },
  {
   "cell_type": "code",
   "execution_count": 89,
   "outputs": [
    {
     "name": "stdout",
     "text": [
      "(654, 10)\n"
     ],
     "output_type": "stream"
    }
   ],
   "source": [
    "from sklearn.feature_extraction.text import CountVectorizer, TfidfVectorizer\n",
    "from sklearn.decomposition import NMF\n",
    "\n",
    "no_features = 1500\n",
    "no_topics = 10\n",
    "\n",
    "tf_vectorizer = CountVectorizer(\n",
    "    # min_df=3, \n",
    "    max_df=0.95, \n",
    "    stop_words=STOPWORDS, \n",
    "    lowercase=True, \n",
    "    # token_pattern='[a-zA-Z\\-][a-zA-Z\\-]{2,}',\n",
    "    max_features=no_features\n",
    ")\n",
    "data_tf_vectorized = tf_vectorizer.fit_transform(french_corpus)\n",
    "tf_feature_names = tf_vectorizer.get_feature_names()\n",
    "\n",
    "\n",
    "tfidf_vectorizer = TfidfVectorizer(\n",
    "    max_df=0.95, \n",
    "    # min_df=3, \n",
    "    stop_words=STOPWORDS, \n",
    "    max_features=no_features\n",
    ")\n",
    "data_tfidf_vectorized = tfidf_vectorizer.fit_transform(french_corpus)\n",
    "tfidf_feature_names = tfidf_vectorizer.get_feature_names()\n",
    "\n",
    "\n",
    "nmf = NMF(n_components=no_topics, \n",
    "          random_state=1, alpha=.1, l1_ratio=.5, init='nndsvd'\n",
    "          )\n",
    "nmf_tf_model = nmf.fit(data_tf_vectorized)\n",
    "print(nmf_tf_model.transform(data_tf_vectorized).shape)\n",
    "nmf_tfidf_model = nmf.fit(data_tfidf_vectorized)"
   ],
   "metadata": {
    "collapsed": false,
    "pycharm": {
     "name": "#%%\n",
     "is_executing": false
    }
   }
  },
  {
   "cell_type": "code",
   "execution_count": 81,
   "outputs": [],
   "source": [
    "def print_topics(model, feature_names, top_n=10):\n",
    "    for topic_idx, topic in enumerate(model.components_):\n",
    "            print(\"Topic %d:\" % (topic_idx))\n",
    "            print(\" \".join([feature_names[i] for i in topic.argsort()[:-top_n - 1:-1]]))"
   ],
   "metadata": {
    "collapsed": false,
    "pycharm": {
     "name": "#%%\n",
     "is_executing": false
    }
   }
  },
  {
   "cell_type": "code",
   "execution_count": 90,
   "outputs": [
    {
     "name": "stdout",
     "text": [
      "Topic 0:\n",
      "qu dit chante moscou eh lui veut demandez savez chair\n",
      "Topic 1:\n",
      "de ai faire une même roi chère me nom cher\n",
      "Topic 2:\n",
      "sire réserve militaire parler cendres heure baron paraît oui pauvre\n",
      "Topic 3:\n",
      "un enfant avez homme ami vieux jamais une oublie exprès\n",
      "Topic 4:\n",
      "bien eh très prince êtes princesse cher personnellement se aller\n",
      "Topic 5:\n",
      "ne me dis ça rien suis voudrais parle plus savez\n",
      "Topic 6:\n",
      "voilà hommes ami véritable empereur avantage asie steppes cependant ordre\n",
      "Topic 7:\n",
      "pierre dites moi être parfait amie fera chère serai allez\n",
      "Topic 8:\n",
      "on dit dirait décidé aveugle allait angine mal besoin demandera\n",
      "Topic 9:\n",
      "andré adieu déjà ах prévenu voyais dieu nom ne adressé\n",
      "==============\n",
      "Topic 0:\n",
      "qu dit chante moscou eh lui veut demandez savez chair\n",
      "Topic 1:\n",
      "de ai faire une même roi chère me nom cher\n",
      "Topic 2:\n",
      "sire réserve militaire parler cendres heure baron paraît oui pauvre\n",
      "Topic 3:\n",
      "un enfant avez homme ami vieux jamais une oublie exprès\n",
      "Topic 4:\n",
      "bien eh très prince êtes princesse cher personnellement se aller\n",
      "Topic 5:\n",
      "ne me dis ça rien suis voudrais parle plus savez\n",
      "Topic 6:\n",
      "voilà hommes ami véritable empereur avantage asie steppes cependant ordre\n",
      "Topic 7:\n",
      "pierre dites moi être parfait amie fera chère serai allez\n",
      "Topic 8:\n",
      "on dit dirait décidé aveugle allait angine mal besoin demandera\n",
      "Topic 9:\n",
      "andré adieu déjà ах prévenu voyais dieu nom ne adressé\n"
     ],
     "output_type": "stream"
    }
   ],
   "source": [
    "print_topics(nmf_tf_model, tf_feature_names)\n",
    "print('==============')\n",
    "print_topics(nmf_tfidf_model, tfidf_feature_names)\n"
   ],
   "metadata": {
    "collapsed": false,
    "pycharm": {
     "name": "#%%\n",
     "is_executing": false
    }
   }
  }
 ],
 "metadata": {
  "kernelspec": {
   "display_name": "Python 3",
   "language": "python",
   "name": "python3"
  },
  "language_info": {
   "codemirror_mode": {
    "name": "ipython",
    "version": 2
   },
   "file_extension": ".py",
   "mimetype": "text/x-python",
   "name": "python",
   "nbconvert_exporter": "python",
   "pygments_lexer": "ipython2",
   "version": "2.7.6"
  },
  "pycharm": {
   "stem_cell": {
    "cell_type": "raw",
    "source": [],
    "metadata": {
     "collapsed": false
    }
   }
  }
 },
 "nbformat": 4,
 "nbformat_minor": 0
}