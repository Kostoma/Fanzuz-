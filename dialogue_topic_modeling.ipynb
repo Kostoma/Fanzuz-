{
 "cells": [
  {
   "cell_type": "code",
   "execution_count": 187,
   "metadata": {
    "collapsed": true,
    "pycharm": {
     "is_executing": false
    }
   },
   "outputs": [
    {
     "name": "stdout",
     "text": [
      "Количество словоформ: 232763\n",
      "Количество токенов: 31861\n",
      "Количество документов в корпусе: 23016\n",
      "['a', 'about', 'all', 'am', 'an', 'and', 'any', 'are', 'as', 'at', 'be', 'been', 'but', 'by', 'can', 'could', 'do', 'for', 'from', 'has', 'have', 'i', 'if', 'in', 'is', 'it', 'me', 'my', 'no', 'not', 'of', 'on', 'one', 'or', 'so', 'that', 'the', 'them', 'there', 'they', 'this', 'to', 'was', 'we', 'what', 'which', 'will', 'with', 'would', 'you', 'а', 'будем', 'будет', 'будете', 'будешь', 'буду', 'будут', 'будучи', 'будь', 'будьте', 'бы', 'был', 'была', 'были', 'было', 'быть', 'в', 'вам', 'вами', 'вас', 'весь', 'во', 'вот', 'все', 'всё', 'всего', 'всей', 'всем', 'всём', 'всеми', 'всему', 'всех', 'всею', 'всея', 'всю', 'вся', 'вы', 'да', 'для', 'до', 'его', 'едим', 'едят', 'ее', 'её', 'ей', 'ел', 'ела', 'ем', 'ему', 'емъ', 'если', 'ест', 'есть', 'ешь', 'еще', 'ещё', 'ею', 'же', 'за', 'и', 'из', 'или', 'им', 'ими', 'имъ', 'их', 'к', 'как', 'кем', 'ко', 'когда', 'кого', 'ком', 'кому', 'комья', 'которая', 'которого', 'которое', 'которой', 'котором', 'которому', 'которою', 'которую', 'которые', 'который', 'которым', 'которыми', 'которых', 'кто', 'меня', 'мне', 'мной', 'мною', 'мог', 'моги', 'могите', 'могла', 'могли', 'могло', 'могу', 'могут', 'мое', 'моё', 'моего', 'моей', 'моем', 'моём', 'моему', 'моею', 'можем', 'может', 'можете', 'можешь', 'мои', 'мой', 'моим', 'моими', 'моих', 'мочь', 'мою', 'моя', 'мы', 'на', 'нам', 'нами', 'нас', 'наса', 'наш', 'наша', 'наше', 'нашего', 'нашей', 'нашем', 'нашему', 'нашею', 'наши', 'нашим', 'нашими', 'наших', 'нашу', 'не', 'него', 'нее', 'неё', 'ней', 'нем', 'нём', 'нему', 'нет', 'нею', 'ним', 'ними', 'них', 'но', 'о', 'об', 'один', 'одна', 'одни', 'одним', 'одними', 'одних', 'одно', 'одного', 'одной', 'одном', 'одному', 'одною', 'одну', 'он', 'она', 'оне', 'они', 'оно', 'от', 'по', 'при', 'с', 'сам', 'сама', 'сами', 'самим', 'самими', 'самих', 'само', 'самого', 'самом', 'самому', 'саму', 'свое', 'своё', 'своего', 'своей', 'своем', 'своём', 'своему', 'своею', 'свои', 'свой', 'своим', 'своими', 'своих', 'свою', 'своя', 'себе', 'себя', 'собой', 'собою', 'та', 'так', 'такая', 'такие', 'таким', 'такими', 'таких', 'такого', 'такое', 'такой', 'таком', 'такому', 'такою', 'такую', 'те', 'тебе', 'тебя', 'тем', 'теми', 'тех', 'то', 'тобой', 'тобою', 'того', 'той', 'только', 'том', 'томах', 'тому', 'тот', 'тою', 'ту', 'ты', 'у', 'уже', 'чего', 'чем', 'чём', 'чему', 'что', 'чтобы', 'эта', 'эти', 'этим', 'этими', 'этих', 'это', 'этого', 'этой', 'этом', 'этому', 'этот', 'этою', 'эту', 'я', 'мені', 'наші', 'нашої', 'нашій', 'нашою', 'нашім', 'ті', 'тієї', 'тією', 'тії', 'теє', 'ну', 'уж', 'спросил', 'сказал', 'сказала', 'спросила', 'говорил', 'говорила', 'проговорил', 'проговорила']\n"
     ],
     "output_type": "stream"
    }
   ],
   "source": [
    "import os\n",
    "from nltk.tokenize import word_tokenize\n",
    "\n",
    "dir = 'russian_corpus'\n",
    "filepaths = []\n",
    "\n",
    "for i in os.listdir(dir):\n",
    "    filepaths.append(os.path.join(dir, i))  \n",
    "\n",
    "corpus = []\n",
    "tokens = []\n",
    "\n",
    "for filepath in filepaths:\n",
    "    with open(filepath, encoding='utf-8') as f:\n",
    "        text = f.read()\n",
    "        text.replace('.', '')\n",
    "        text = [x for x in word_tokenize(text) if x.isalpha()]\n",
    "        if text:\n",
    "            tokens.extend(text)\n",
    "            text = [x for x in [text[0]] if len(x) > 3] + [x for x in text[1:] if not x.istitle() and len(x) > 3]\n",
    "            text = ' '.join(text)\n",
    "            corpus.append(text)\n",
    "\n",
    "print(f'Количество словоформ: {len(tokens)}')\n",
    "print(f'Количество токенов: {len(set(tokens))}')\n",
    "print(f'Количество документов в корпусе: {len(corpus)}')\n",
    "\n",
    "with open('ru_stop_words.txt', encoding='utf-8') as f:\n",
    "    STOPWORDS = f.read().split()\n",
    "    print(STOPWORDS)"
   ]
  },
  {
   "cell_type": "code",
   "execution_count": 188,
   "outputs": [
    {
     "name": "stdout",
     "text": [
      "подмигивая\n",
      "сказала\n",
      "это\n",
      "между\n",
      "которые\n",
      "за\n",
      "Всё\n",
      "говорим\n",
      "мне\n",
      "Это\n",
      "о\n",
      "он\n",
      "милая\n",
      "кузнецы\n",
      "предсказала\n",
      "котором\n",
      "вопроса\n",
      "генерал\n",
      "У\n",
      "о\n",
      "где\n",
      "большая\n",
      "а\n",
      "они\n",
      "ибо\n",
      "его\n",
      "Ивановна\n",
      "насмешливою\n",
      "сказал\n",
      "это\n",
      "ждать\n",
      "было\n",
      "бы\n",
      "не\n",
      "Не\n",
      "подействовали\n",
      "нам\n",
      "конкурентов\n",
      "Бог\n",
      "мне\n",
      "говорить\n",
      "слез\n",
      "оставишь\n",
      "шопотом\n",
      "я\n",
      "и\n",
      "холодность\n",
      "что\n",
      "сказала\n",
      "слушает\n",
      "знал\n",
      "изо\n",
      "на\n",
      "Всё\n",
      "Кити\n",
      "князь\n",
      "писал\n",
      "на\n",
      "рада\n",
      "qui\n",
      "много\n",
      "и\n",
      "адъютантом\n",
      "вместе\n",
      "А\n",
      "Козловского\n",
      "деньги\n",
      "сказал\n",
      "внаймы\n",
      "выгоняет\n",
      "надулось\n",
      "сами\n",
      "ветра\n",
      "доживает\n",
      "тело\n",
      "отвечать\n",
      "правда\n",
      "Николенька\n",
      "возможно\n",
      "к\n",
      "познакомила\n",
      "этого\n",
      "и\n",
      "Я\n",
      "то\n",
      "disons\n",
      "бабушка\n",
      "толпилось\n",
      "в\n",
      "Он\n",
      "вас\n",
      "но\n",
      "этом\n",
      "нет\n",
      "как\n",
      "знаю\n",
      "всем\n",
      "больше\n",
      "А\n",
      "играет\n"
     ],
     "output_type": "stream"
    }
   ],
   "source": [
    "import random\n",
    "\n",
    "for i in range(100):\n",
    "    print(random.choice(tokens))"
   ],
   "metadata": {
    "collapsed": false,
    "pycharm": {
     "name": "#%%\n",
     "is_executing": false
    }
   }
  },
  {
   "cell_type": "code",
   "execution_count": 194,
   "outputs": [
    {
     "name": "stdout",
     "text": [
      "(23016, 10)\n"
     ],
     "output_type": "stream"
    }
   ],
   "source": [
    "from sklearn.feature_extraction.text import TfidfVectorizer\n",
    "from sklearn.decomposition import NMF\n",
    "\n",
    "no_features = 31000\n",
    "no_topics = 10\n",
    "\n",
    "tfidf_vectorizer = TfidfVectorizer(\n",
    "    max_df=0.06,\n",
    "    # min_df=3, \n",
    "    stop_words=STOPWORDS, \n",
    "    max_features=no_features\n",
    ")\n",
    "data_tfidf_vectorized = tfidf_vectorizer.fit_transform(corpus)\n",
    "tfidf_feature_names = tfidf_vectorizer.get_feature_names()\n",
    "\n",
    "\n",
    "nmf = NMF(n_components=no_topics, \n",
    "          random_state=1, alpha=.1, l1_ratio=.5, init='nndsvd'\n",
    "          )\n",
    "nmf_tfidf_model = nmf.fit(data_tfidf_vectorized)\n",
    "print(nmf_tfidf_model.transform(data_tfidf_vectorized).shape)"
   ],
   "metadata": {
    "collapsed": false,
    "pycharm": {
     "name": "#%%\n",
     "is_executing": false
    }
   }
  },
  {
   "cell_type": "code",
   "execution_count": null,
   "outputs": [],
   "source": [
    "def print_topics(model, feature_names, top_n=10):\n",
    "    for topic_idx, topic in enumerate(model.components_):\n",
    "            print(\"Topic %d:\" % (topic_idx))\n",
    "            print(\" \".join([feature_names[i] for i in topic.argsort()[:-top_n - 1:-1]]))"
   ],
   "metadata": {
    "collapsed": false,
    "pycharm": {
     "name": "#%%\n",
     "is_executing": false
    }
   }
  },
  {
   "cell_type": "code",
   "execution_count": 195,
   "outputs": [
    {
     "name": "stdout",
     "text": [
      "Topic 0:\n",
      "хорошо слишком лучше жили правда прекрасно помнишь садись отвечал здесь\n",
      "Topic 1:\n",
      "ничего понимаю нужно отвечал больше хочу кроме никогда сделать особенного\n",
      "Topic 2:\n",
      "отчего думаете можно ехать знаешь говорить слишком хотите потрудиться говорите\n",
      "Topic 3:\n",
      "князь старый отвечал перебил продолжал повторил вдруг думаете тихо князю\n",
      "Topic 4:\n",
      "очень рада видеть интересно приятно человек приехал весело люблю больна\n",
      "Topic 5:\n",
      "теперь дело надо куда говорить больше время ехать здесь ведь\n",
      "Topic 6:\n",
      "знаю право сказать думаю говорю княжна люблю давно говорить ведь\n",
      "Topic 7:\n",
      "делать нечего скажи надо народом вашему скажу трудно спать аккуратно\n",
      "Topic 8:\n",
      "зачем здесь говоришь едете говорите пришла поедете служите умерла взял\n",
      "Topic 9:\n",
      "улыбаясь весело прибавил отвечал думаю глядя нежно отвечала говорили лучше\n"
     ],
     "output_type": "stream"
    }
   ],
   "source": [
    "print_topics(nmf_tfidf_model, tfidf_feature_names)\n"
   ],
   "metadata": {
    "collapsed": false,
    "pycharm": {
     "name": "#%%\n",
     "is_executing": false
    }
   }
  }
 ],
 "metadata": {
  "kernelspec": {
   "display_name": "Python 3",
   "language": "python",
   "name": "python3"
  },
  "language_info": {
   "codemirror_mode": {
    "name": "ipython",
    "version": 2
   },
   "file_extension": ".py",
   "mimetype": "text/x-python",
   "name": "python",
   "nbconvert_exporter": "python",
   "pygments_lexer": "ipython2",
   "version": "2.7.6"
  },
  "pycharm": {
   "stem_cell": {
    "cell_type": "raw",
    "source": [],
    "metadata": {
     "collapsed": false
    }
   }
  }
 },
 "nbformat": 4,
 "nbformat_minor": 0
}