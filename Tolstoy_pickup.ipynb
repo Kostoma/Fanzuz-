{
 "cells": [
  {
   "cell_type": "markdown",
   "metadata": {},
   "source": [
    "# Здесь мы парсим xml"
   ]
  },
  {
   "cell_type": "code",
   "execution_count": 35,
   "metadata": {},
   "outputs": [],
   "source": [
    "# os\n",
    "import os\n",
    "# регулярки.\n",
    "import re\n",
    "# удобная штука для того, чтобы понимать, сколько осталось в цикле.\n",
    "from tqdm.notebook import tqdm\n",
    "# pretty print\n",
    "from pprint import pprint\n",
    "# токенизация\n",
    "from nltk import sent_tokenize\n",
    "# нужен html.parser, только для xml\n",
    "from bs4 import BeautifulSoup"
   ]
  },
  {
   "cell_type": "code",
   "execution_count": 41,
   "metadata": {
    "scrolled": false
   },
   "outputs": [],
   "source": [
    "files = os.listdir('xml_data/')"
   ]
  },
  {
   "cell_type": "code",
   "execution_count": 24,
   "metadata": {},
   "outputs": [],
   "source": [
    "# берет xml-файл, выдает только текст книги, разделенный тэгом {par} по абзацам\n",
    "def par_tag_clean_text(filename):\n",
    "    \n",
    "    print('Stripping the lines...')\n",
    "    with open(filename, encoding='utf-8') as f:\n",
    "        text = f.read()\n",
    "    n_text = ''\n",
    "    for line in tqdm(text.split('\\n')):\n",
    "        n_line = line.strip()\n",
    "        n_text += n_line+'\\n'\n",
    "    text = n_text\n",
    "    soup = BeautifulSoup(text, 'html.parser')\n",
    "    all_pars = soup.find_all('p', {'rend': 'left'})\n",
    "    prev_pars = []\n",
    "    real_pars = []\n",
    "    \n",
    "    print('Deleting unnecessary paragraphs...')\n",
    "    for p1 in tqdm(all_pars):\n",
    "        p1_in_prev = False\n",
    "        for p2 in prev_pars[::-1]:\n",
    "            if str(p1) in str(p2):\n",
    "                p1_in_prev = True\n",
    "                break\n",
    "        if p1_in_prev == False:\n",
    "            real_pars.append(str(p1)[15:-4])\n",
    "        prev_pars.append(str(p1))\n",
    "    \n",
    "    par_text = '{par}'.join(real_pars)\n",
    "    par_soup = BeautifulSoup(text, 'html.parser')\n",
    "    \n",
    "    notes = par_soup.find_all('note')\n",
    "    pbs = par_soup.find_all('pb')\n",
    "    \n",
    "    print('Deleting notes and pb tags...')\n",
    "    for note in tqdm(notes):\n",
    "        par_text = par_text.replace(str(note), '')\n",
    "    for pb in tqdm(pbs):\n",
    "        par_text = par_text.replace(str(pb), '')\n",
    "    \n",
    "    print('Deleting highlight tags...')\n",
    "    his = ('</hi>', '<hi rend=\"italic\">', '<hi rend=\"sup\">', '<hi rend=\"bold\">')\n",
    "    for hi in tqdm(his):\n",
    "        par_text = par_text.replace(hi, '')\n",
    "    par_text = re.sub('<pb n=\".*?\" \\/>', '', par_text)\n",
    "    \n",
    "    print('Done!')\n",
    "    \n",
    "    return par_text"
   ]
  },
  {
   "cell_type": "code",
   "execution_count": 30,
   "metadata": {},
   "outputs": [],
   "source": [
    "# берет этот же текст, достает из него все строчки диалогов\n",
    "def extract_dialogue(text):\n",
    "    \n",
    "    print('Extracting dialogue...')\n",
    "    pars = text.split('{par}')\n",
    "    dialogue = []\n",
    "    for p in tqdm(pars):\n",
    "        if p.strip().startswith('—'):\n",
    "            dialogue.append(p.strip())\n",
    "    \n",
    "    return dialogue"
   ]
  },
  {
   "cell_type": "code",
   "execution_count": 11,
   "metadata": {},
   "outputs": [],
   "source": [
    "# пишет диалоги в файлы\n",
    "def write_dialogue(path, filename, dialogue):\n",
    "    print('Writing dialogue...')\n",
    "    with open(path+filename, 'w', encoding='utf-8') as f:\n",
    "        f.write('\\n'.join(dialogue))\n",
    "    print('Success!')"
   ]
  },
  {
   "cell_type": "code",
   "execution_count": 33,
   "metadata": {
    "scrolled": true
   },
   "outputs": [
    {
     "name": "stdout",
     "output_type": "stream",
     "text": [
      "Детство 1:\n",
      "Stripping the lines...\n"
     ]
    },
    {
     "data": {
      "application/vnd.jupyter.widget-view+json": {
       "model_id": "eeefad20ef57478d99d169a768a6d637",
       "version_major": 2,
       "version_minor": 0
      },
      "text/plain": [
       "HBox(children=(IntProgress(value=0, max=3451), HTML(value='')))"
      ]
     },
     "metadata": {},
     "output_type": "display_data"
    },
    {
     "name": "stdout",
     "output_type": "stream",
     "text": [
      "\n",
      "Deleting unnecessary paragraphs...\n"
     ]
    },
    {
     "data": {
      "application/vnd.jupyter.widget-view+json": {
       "model_id": "d692dce2645d453486e7ee38ed6be040",
       "version_major": 2,
       "version_minor": 0
      },
      "text/plain": [
       "HBox(children=(IntProgress(value=0, max=692), HTML(value='')))"
      ]
     },
     "metadata": {},
     "output_type": "display_data"
    },
    {
     "name": "stdout",
     "output_type": "stream",
     "text": [
      "\n",
      "Deleting notes and pb tags...\n"
     ]
    },
    {
     "data": {
      "application/vnd.jupyter.widget-view+json": {
       "model_id": "7c9a1ef6030d4ed3aec996710a7922d3",
       "version_major": 2,
       "version_minor": 0
      },
      "text/plain": [
       "HBox(children=(IntProgress(value=0, max=48), HTML(value='')))"
      ]
     },
     "metadata": {},
     "output_type": "display_data"
    },
    {
     "name": "stdout",
     "output_type": "stream",
     "text": [
      "\n"
     ]
    },
    {
     "data": {
      "application/vnd.jupyter.widget-view+json": {
       "model_id": "9d959fe6e1d6472f9aa8d27173eeebde",
       "version_major": 2,
       "version_minor": 0
      },
      "text/plain": [
       "HBox(children=(IntProgress(value=0, max=94), HTML(value='')))"
      ]
     },
     "metadata": {},
     "output_type": "display_data"
    },
    {
     "name": "stdout",
     "output_type": "stream",
     "text": [
      "\n",
      "Deleting highlight tags...\n"
     ]
    },
    {
     "data": {
      "application/vnd.jupyter.widget-view+json": {
       "model_id": "48283b3b837f4986a1e5717b8e9e24a1",
       "version_major": 2,
       "version_minor": 0
      },
      "text/plain": [
       "HBox(children=(IntProgress(value=0, max=4), HTML(value='')))"
      ]
     },
     "metadata": {},
     "output_type": "display_data"
    },
    {
     "name": "stdout",
     "output_type": "stream",
     "text": [
      "\n",
      "Done!\n",
      "Extracting dialogue...\n"
     ]
    },
    {
     "data": {
      "application/vnd.jupyter.widget-view+json": {
       "model_id": "0b2b990f443245898993b3f5ca6c82d4",
       "version_major": 2,
       "version_minor": 0
      },
      "text/plain": [
       "HBox(children=(IntProgress(value=0, max=642), HTML(value='')))"
      ]
     },
     "metadata": {},
     "output_type": "display_data"
    },
    {
     "name": "stdout",
     "output_type": "stream",
     "text": [
      "\n",
      "Writing dialogue...\n",
      "Success!\n"
     ]
    }
   ],
   "source": [
    "for file in files:\n",
    "    print(file+':')\n",
    "    text = par_tag_clean_text(f'xml_data/{file}')\n",
    "    dialogue = extract_dialogue(text)\n",
    "    write_dialogue('corpus/', os.path.splitext(file)[0]+'.txt', dialogue)"
   ]
  }
 ],
 "metadata": {
  "kernelspec": {
   "display_name": "Python 3",
   "language": "python",
   "name": "python3"
  },
  "language_info": {
   "codemirror_mode": {
    "name": "ipython",
    "version": 3
   },
   "file_extension": ".py",
   "mimetype": "text/x-python",
   "name": "python",
   "nbconvert_exporter": "python",
   "pygments_lexer": "ipython3",
   "version": "3.7.4"
  }
 },
 "nbformat": 4,
 "nbformat_minor": 2
}
