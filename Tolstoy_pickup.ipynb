{
 "cells": [
  {
   "cell_type": "markdown",
   "metadata": {},
   "source": [
    "# Здесь мы парсим xml"
   ]
  },
  {
   "cell_type": "code",
   "execution_count": 29,
   "metadata": {},
   "outputs": [],
   "source": [
    "# регулярки.\n",
    "import re\n",
    "# удобная штука для того, чтобы понимать, сколько осталось в цикле.\n",
    "from tqdm import tqdm\n",
    "# pretty print\n",
    "from pprint import pprint\n",
    "# токенизация\n",
    "from nltk import sent_tokenize"
   ]
  },
  {
   "cell_type": "markdown",
   "metadata": {},
   "source": [
    "Короче, я в замешательстве. Сейчас экспериментирую только с одним файлом:"
   ]
  },
  {
   "cell_type": "code",
   "execution_count": 71,
   "metadata": {},
   "outputs": [],
   "source": [
    "with open('xml_data/Война и мир. 9.xml', encoding='utf-8') as f:\n",
    "    text = f.read()"
   ]
  },
  {
   "cell_type": "markdown",
   "metadata": {},
   "source": [
    "Вот так примерно выглядит этот текст:"
   ]
  },
  {
   "cell_type": "code",
   "execution_count": 112,
   "metadata": {
    "scrolled": true
   },
   "outputs": [
    {
     "name": "stdout",
     "output_type": "stream",
     "text": [
      "<?xml version='1.0' encoding='utf-8'?>\n",
      "<TEI xmlns=\"http://www.tei-c.org/ns/1.0\" xmlns:xi=\"http://www.w3.org/2001/XInclude\">\n",
      "<teiHeader>\n",
      "<fileDesc>\n",
      "<titleStmt>\n",
      "<title> Война и мир. </title>\n",
      "<author> Толстой Л.Н. </author>\n",
      "<respStmt>\n",
      "<resp> подготовка TEI/XML </resp>\n",
      "<name> Мария Картышева, Евгений Можаев, Даниил Скоринкин, Елена Сидорова </name>\n",
      "</respStmt>\n",
      "<respStmt>\n",
      "<name> Анастасия Бонч-Осмоловская, Фёкла Толстая, Борис Орехов </name>\n",
      "<resp> Идея, постановка задач, руководство </resp>\n",
      "</respStmt>\n",
      "</titleStmt>\n",
      "<publicationStmt>\n",
      "<publisher>\n",
      "<orgName> Школа лингвистики НИУ ВШЭ </orgName>\n",
      "</publisher>\n",
      "<availability>\n",
      "<p> Тексты и метатекстовая разметка доступны для свободного использования и распространения по\n",
      "лицензии Creative Commons Attribution Share-Alike (cc by-sa) </p>\n",
      "</availability>\n",
      "</publicationStmt>\n",
      "<sourceDesc>\n",
      "<biblStruct>\n",
      "<analytic>\n",
      "<author> Толстой Л.Н. </author>\n",
      "<title level=\"a\"> Война и мир. </title>\n",
      "</analytic>\n",
      "<monogr>\n",
      "<title level=\"m\"> Полное собрание сочинений. Серия первая \"Произведения\". Том 9 </title>\n",
      "<imprint>\n",
      "<pubPlace> Москва </pubPlace>\n",
      "<publisher> Государственное издательство \"Художественная литература\" </publisher>\n",
      "<date when=\"1937\"/>\n",
      "</imprint>\n",
      "</monogr>\n",
      "<series>\n",
      "<title level=\"s\"> Л.Н. Толстой. Полное собрание сочинений </title>\n",
      "<biblScope unit=\"vol\"> 9 </biblScope>\n",
      "</series>\n",
      "</biblStruct>\n",
      "</sourceDesc>\n",
      "</fileDesc>\n",
      "<encodingDesc>\n",
      "<classDecl>\n",
      "<xi:include href=\"taxonomy.xml\"/>\n",
      "</classDecl>\n",
      "</encodingDesc>\n",
      "<profileDesc>\n",
      "<creation>\n",
      "<date notAfter=\"1873\" notBefore=\"1863\"> 1863 — 1869, 1873 </date>\n",
      "<rs type=\"country\"> Россия </rs>\n",
      "</creation>\n",
      "<textClass>\n",
      "<catRef target=\"#художественная\" type=\"sphere\"/>\n",
      "<catRef target=\"#художественная.роман\" type=\"type\"/>\n",
      "</textClass>\n",
      "<preparedness> finished </preparedness>\n",
      "<settingDesc>\n",
      "<time> XIX век </time>\n",
      "</settingDesc>\n",
      "</profileDesc>\n",
      "<xenoData>\n",
      "<cyclusName/>\n",
      "<orthographyType> new </orthographyType>\n",
      "<versionNumber> fin103 </versionNumber>\n",
      "<isFinished> finished </isFinished>\n",
      "<isEdited> edited </isEdited>\n",
      "<p> Проект <title> Толстой.Digital </title> разрабатывается сотрудниками и студентами <orgName>\n",
      "Высшей школы экономики </orgName> в сотрудничестве с <orgName> Государственным музеем Л.Н.\n",
      "Толстого </orgName> . Источник текстов – <bibl> 90-томное собрание сочинений Л.Н.Толстого\n",
      "</bibl> . Разметка основана на стандарте <ref target=\"http://www.tei-c.org\"> TEI (Text Encoding\n",
      "Initiative) </ref> . </p>\n",
      "<fullBibliographicDescription> Л.Н. Толстой. Полное собрание сочинений. Серия первая «Произведения». Том 9. Государственное издательство «Художественная литература», Москва — 1937.\n",
      "</fullBibliographicDescription>\n",
      "</xenoData>\n",
      "</teiHeader>\n",
      "<text>\n",
      "<div type=\"section\" xml:id=\"h000006\">\n",
      "<head rend=\"center\">\n",
      "<hi rend=\"strong\"> ВОЙНА И МИР </hi>\n",
      "</head>\n",
      "<lb/>\n",
      "<p rend=\"center\"> РЕДАКТОРЫ: </p>\n",
      "<p rend=\"center\"> Г. А. ВОЛКОВ </p>\n",
      "<p rend=\"center\"> М. А. ЦЯВЛОВСКИЙ </p>\n",
      "<lb/>\n",
      "</div>\n",
      "<div type=\"volume\" xml:id=\"vol1\">\n",
      "<div type=\"section\" xml:id=\"h000009001\">\n",
      "<head rend=\"center\">\n",
      "<hi rend=\"strong\"> ТОМ ПЕРВЫЙ </hi>\n",
      "</head>\n",
      "<div>\n",
      "<lb/>\n",
      "</div>\n",
      "</div>\n",
      "<div type=\"part\" xml:id=\"vol1part1\">\n",
      "<head rend=\"center\">\n",
      "<hi rend=\"strong\"> ЧАСТЬ ПЕРВАЯ. </hi>\n",
      "</head>\n",
      "<div type=\"section\" xml:id=\"h000009001002001\">\n",
      "<head rend=\"center\"> I. </head>\n",
      "<p rend=\"left\"> — Eh bien, mon prince. Gênes et Lucques ne sont plus que des apanages, des\n",
      "поместья, de la famille Buonaparte. Non, je vous préviens, que si vous ne me dites pas, que\n",
      "nous avons la guerre, si vous vous permettez encore de pallier toutes les infamies, toutes les\n",
      "atrocités de cet Antichrist (ma parole, j’y crois) — je ne vous connais plus, vous n’êtes plus\n",
      "mon ami, vous n’êtes plus мой верный раб, comme vous dites. <note n=\"n1\">\n",
      "<div type=\"section\" xml:id=\"n1\">\n",
      "<head>\n",
      "<ref target=\"index.xhtml#backn1\"> 1 </ref>\n",
      "</head>\n",
      "<p rend=\"left\"> Ну, князь, Генуя и Лукка поместья фамилии Бонапарте. Нет, я вам вперед\n",
      "говорю, если вы мне не скажете, что у нас война, если вы еще позволите себе защищать все\n",
      "гадости, все ужасы этого Антихриста (право, я верю, что он Антихрист), — я вас больше не\n",
      "знаю, вы уж не друг мой, вы уж не мой верный раб, как вы говорите. </p>\n",
      "</div>\n",
      "</note> Ну, здравствуйте, здравствуйте. Je vois que je vous fais peur, <note n=\"n2\">\n",
      "<div type=\"section\" xml:id=\"n2\">\n",
      "<head>\n",
      "<ref target=\"index.xhtml#backn2\"> 2 </ref>\n",
      "</head>\n",
      "<p rend=\"left\"> Я вижу, что я вас пугаю. </p>\n",
      "</div>\n",
      "</note> садитесь и рассказывайте. </p>\n",
      "<p rend=\"left\"> Так говорила в июле 1805 года известная Анна Павловна Шерер, фрейлина и\n",
      "приближенная императрицы Марии Феодоровны, встречая важного и чиновного князя Василия, первого\n",
      "приехавшего на ее вечер. Анна Павловна кашляла несколько дней, у нее был <hi rend=\"italic\">\n",
      "грипп </hi> , как она говорила <hi rend=\"italic\"> (грипп </hi> был тогда новое слово,\n",
      "употреблявшееся только редкими). В записочках, разосланных утром с красным лакеем, было\n",
      "написано без различия во всех: </p>\n",
      "<p rend=\"left\"> «Si vous n’avez rien de mieux à faire, M. le comte (или mon prince), et si la\n",
      "perspective de passer la soirée chez une pauvre <pb n=\"4\"/> malade ne vous effraye pas trop,\n",
      "je serai charmée de vous voir chez moi entre 7 et 10 heures. Annette Scherer». <note n=\"n3\">\n",
      "<div type=\"section\" xml:id=\"n3\">\n",
      "<head>\n",
      "<ref target=\"index.xhtml#backn3\"> 3 </ref>\n",
      "</head>\n",
      "<p rend=\"left\"> Если y вас, граф (или князь), нет в виду ничего лучшего и если перспектива\n",
      "вечера у бедной больной не слишком вас пугает, то я буду очень рада видеть вас нынче у себя\n",
      "между семью и десятью часами. Анна Шерер. </p>\n",
      "</div>\n",
      "</note>\n",
      "</p>\n",
      "<p rend=\"left\"> — Dieu, quelle virulente sortie! <note n=\"n4\">\n",
      "<div type=\"section\" xml:id=\"n4\">\n",
      "<head>\n",
      "<ref target=\"index.xhtml#backn4\"> 4 </ref>\n",
      "</head>\n",
      "<p rend=\"left\"> Господи, какое горячее нападение! </p>\n",
      "</div>\n",
      "</note> — отвечал, нисколько не смутясь такою встречей, вошедший князь, в придворном, шитом\n",
      "мундире, в чулках, башмаках, и звездах, с светлым выражением плоского лица. </p>\n",
      "<p rend=\"left\"> Он говорил на том изысканном французском языке, на котором не только говорили,\n",
      "но и думали наши деды, и с теми тихим\n"
     ]
    }
   ],
   "source": [
    "print(text[:6000])"
   ]
  },
  {
   "cell_type": "markdown",
   "metadata": {},
   "source": [
    "А вот так он выглядит для компа на самом деле:"
   ]
  },
  {
   "cell_type": "code",
   "execution_count": 113,
   "metadata": {
    "scrolled": true
   },
   "outputs": [
    {
     "data": {
      "text/plain": [
       "'<?xml version=\\'1.0\\' encoding=\\'utf-8\\'?>\\n<TEI xmlns=\"http://www.tei-c.org/ns/1.0\" xmlns:xi=\"http://www.w3.org/2001/XInclude\">\\n<teiHeader>\\n<fileDesc>\\n<titleStmt>\\n<title> Война и мир. </title>\\n<author> Толстой Л.Н. </author>\\n<respStmt>\\n<resp> подготовка TEI/XML </resp>\\n<name> Мария Картышева, Евгений Можаев, Даниил Скоринкин, Елена Сидорова </name>\\n</respStmt>\\n<respStmt>\\n<name> Анастасия Бонч-Осмоловская, Фёкла Толстая, Борис Орехов </name>\\n<resp> Идея, постановка задач, руководство </resp>\\n</respStmt>\\n</titleStmt>\\n<publicationStmt>\\n<publisher>\\n<orgName> Школа лингвистики НИУ ВШЭ </orgName>\\n</publisher>\\n<availability>\\n<p> Тексты и метатекстовая разметка доступны для свободного использования и распространения по\\nлицензии Creative Commons Attribution Share-Alike (cc by-sa) </p>\\n</availability>\\n</publicationStmt>\\n<sourceDesc>\\n<biblStruct>\\n<analytic>\\n<author> Толстой Л.Н. </author>\\n<title level=\"a\"> Война и мир. </title>\\n</analytic>\\n<monogr>\\n<title level=\"m\"> Полное собрание сочинений. Серия первая \"Произведения\". Том 9 </title>\\n<imprint>\\n<pubPlace> Москва </pubPlace>\\n<publisher> Государственное издательство \"Художественная литература\" </publisher>\\n<date when=\"1937\"/>\\n</imprint>\\n</monogr>\\n<series>\\n<title level=\"s\"> Л.Н. Толстой. Полное собрание сочинений </title>\\n<biblScope unit=\"vol\"> 9 </biblScope>\\n</series>\\n</biblStruct>\\n</sourceDesc>\\n</fileDesc>\\n<encodingDesc>\\n<classDecl>\\n<xi:include href=\"taxonomy.xml\"/>\\n</classDecl>\\n</encodingDesc>\\n<profileDesc>\\n<creation>\\n<date notAfter=\"1873\" notBefore=\"1863\"> 1863 — 1869, 1873 </date>\\n<rs type=\"country\"> Россия </rs>\\n</creation>\\n<textClass>\\n<catRef target=\"#художественная\" type=\"sphere\"/>\\n<catRef target=\"#художественная.роман\" type=\"type\"/>\\n</textClass>\\n<preparedness> finished </preparedness>\\n<settingDesc>\\n<time> XIX век </time>\\n</settingDesc>\\n</profileDesc>\\n<xenoData>\\n<cyclusName/>\\n<orthographyType> new </orthographyType>\\n<versionNumber> fin103 </versionNumber>\\n<isFinished> finished </isFinished>\\n<isEdited> edited </isEdited>\\n<p> Проект <title> Толстой.Digital </title> разрабатывается сотрудниками и студентами <orgName>\\nВысшей школы экономики </orgName> в сотрудничестве с <orgName> Государственным музеем Л.Н.\\nТолстого </orgName> . Источник текстов – <bibl> 90-томное собрание сочинений Л.Н.Толстого\\n</bibl> . Разметка основана на стандарте <ref target=\"http://www.tei-c.org\"> TEI (Text Encoding\\nInitiative) </ref> . </p>\\n<fullBibliographicDescription> Л.Н. Толстой. Полное собрание сочинений. Серия первая «Произведения». Том 9. Государственное издательство «Художественная литература», Москва — 1937.\\n</fullBibliographicDescription>\\n</xenoData>\\n</teiHeader>\\n<text>\\n<div type=\"section\" xml:id=\"h000006\">\\n<head rend=\"center\">\\n<hi rend=\"strong\"> ВОЙНА И МИР </hi>\\n</head>\\n<lb/>\\n<p rend=\"center\"> РЕДАКТОРЫ: </p>\\n<p rend=\"center\"> Г. А. ВОЛКОВ </p>\\n<p rend=\"center\"> М. А. ЦЯВЛОВСКИЙ </p>\\n<lb/>\\n</div>\\n<div type=\"volume\" xml:id=\"vol1\">\\n<div type=\"section\" xml:id=\"h000009001\">\\n<head rend=\"center\">\\n<hi rend=\"strong\"> ТОМ ПЕРВЫЙ </hi>\\n</head>\\n<div>\\n<lb/>\\n</div>\\n</div>\\n<div type=\"part\" xml:id=\"vol1part1\">\\n<head rend=\"center\">\\n<hi rend=\"strong\"> ЧАСТЬ ПЕРВАЯ. </hi>\\n</head>\\n<div type=\"section\" xml:id=\"h000009001002001\">\\n<head rend=\"center\"> I. </head>\\n<p rend=\"left\"> — Eh bien, mon prince. Gênes et Lucques ne sont plus que des apanages, des\\nпоместья, de la famille Buonaparte. Non, je vous préviens, que si vous ne me dites pas, que\\nnous avons la guerre, si vous vous permettez encore de pallier toutes les infamies, toutes les\\natrocités de cet Antichrist (ma parole, j’y crois) — je ne vous connais plus, vous n’êtes plus\\nmon ami, vous n’êtes plus мой верный раб, comme vous dites. <note n=\"n1\">\\n<div type=\"section\" xml:id=\"n1\">\\n<head>\\n<ref target=\"index.xhtml#backn1\"> 1 </ref>\\n</head>\\n<p rend=\"left\"> Ну, князь, Генуя и Лукка поместья фамилии Бонапарте. Нет, я вам вперед\\nговорю, если вы мне не скажете, что у нас война, если вы еще позволите себе защищать все\\nгадости, все ужасы этого Антихриста (право, я верю, что он Антихрист), — я вас больше не\\nзнаю, вы уж не друг мой, вы уж не мой верный раб, как вы говорите. </p>\\n</div>\\n</note> Ну, здравствуйте, здравствуйте. Je vois que je vous fais peur, <note n=\"n2\">\\n<div type=\"section\" xml:id=\"n2\">\\n<head>\\n<ref target=\"index.xhtml#backn2\"> 2 </ref>\\n</head>\\n<p rend=\"left\"> Я вижу, что я вас пугаю. </p>\\n</div>\\n</note> садитесь и рассказывайте. </p>\\n<p rend=\"left\"> Так говорила в июле 1805 года известная Анна Павловна Шерер, фрейлина и\\nприближенная императрицы Марии Феодоровны, встречая важного и чиновного князя Василия, первого\\nприехавшего на ее вечер. Анна Павловна кашляла несколько дней, у нее был <hi rend=\"italic\">\\nгрипп </hi> , как она говорила <hi rend=\"italic\"> (грипп </hi> был тогда новое слово,\\nупотреблявшееся только редкими). В записочках, разосланных утром с красным лакеем, было\\nнаписано без различия во всех: </p>\\n<p rend=\"left\"> «Si vous n’avez rien de mieux à faire, M. le comte (или mon prince), et si la\\nperspective de passer la soirée chez une pauvre <pb n=\"4\"/> malade ne vous effraye pas trop,\\nje serai charmée de vous voir chez moi entre 7 et 10 heures. Annette Scherer». <note n=\"n3\">\\n<div type=\"section\" xml:id=\"n3\">\\n<head>\\n<ref target=\"index.xhtml#backn3\"> 3 </ref>\\n</head>\\n<p rend=\"left\"> Если y вас, граф (или князь), нет в виду ничего лучшего и если перспектива\\nвечера у бедной больной не слишком вас пугает, то я буду очень рада видеть вас нынче у себя\\nмежду семью и десятью часами. Анна Шерер. </p>\\n</div>\\n</note>\\n</p>\\n<p rend=\"left\"> — Dieu, quelle virulente sortie! <note n=\"n4\">\\n<div type=\"section\" xml:id=\"n4\">\\n<head>\\n<ref target=\"index.xhtml#backn4\"> 4 </ref>\\n</head>\\n<p rend=\"left\"> Господи, какое горячее нападение! </p>\\n</div>\\n</note> — отвечал, нисколько не смутясь такою встречей, вошедший князь, в придворном, шитом\\nмундире, в чулках, башмаках, и звездах, с светлым выражением плоского лица. </p>\\n<p rend=\"left\"> Он говорил на том изысканном французском языке, на котором не только говорили,\\nно и думали наши деды, и с теми тихим'"
      ]
     },
     "execution_count": 113,
     "metadata": {},
     "output_type": "execute_result"
    }
   ],
   "source": [
    "text[:6000]"
   ]
  },
  {
   "cell_type": "markdown",
   "metadata": {},
   "source": [
    "По пути я решил в итоге проблему (т.е. какую регулярку нужно искать, чтобы он находил не строки, а абзацы)."
   ]
  },
  {
   "cell_type": "code",
   "execution_count": 115,
   "metadata": {},
   "outputs": [],
   "source": [
    "text_paragraphs = re.findall(r'<p rend=\"left\">(.*?)<\\/p>', text, re.DOTALL)"
   ]
  },
  {
   "cell_type": "markdown",
   "metadata": {},
   "source": [
    "Я сначала думал, что каждая строчка в кавычках -- это отдельный элемент, но только сейчас заметил, что между ними нет запятых."
   ]
  },
  {
   "cell_type": "code",
   "execution_count": 123,
   "metadata": {
    "scrolled": true
   },
   "outputs": [
    {
     "name": "stdout",
     "output_type": "stream",
     "text": [
      "[' — Eh bien, mon prince. Gênes et Lucques ne sont plus que des apanages, des\\n'\n",
      " 'поместья, de la famille Buonaparte. Non, je vous préviens, que si vous ne me '\n",
      " 'dites pas, que\\n'\n",
      " 'nous avons la guerre, si vous vous permettez encore de pallier toutes les '\n",
      " 'infamies, toutes les\\n'\n",
      " 'atrocités de cet Antichrist (ma parole, j’y crois) — je ne vous connais '\n",
      " 'plus, vous n’êtes plus\\n'\n",
      " 'mon ami, vous n’êtes plus мой верный раб, comme vous dites. <note n=\"n1\">\\n'\n",
      " '<div type=\"section\" xml:id=\"n1\">\\n'\n",
      " '<head>\\n'\n",
      " '<ref target=\"index.xhtml#backn1\"> 1 </ref>\\n'\n",
      " '</head>\\n'\n",
      " '<p rend=\"left\"> Ну, князь, Генуя и Лукка поместья фамилии Бонапарте. Нет, я '\n",
      " 'вам вперед\\n'\n",
      " 'говорю, если вы мне не скажете, что у нас война, если вы еще позволите себе '\n",
      " 'защищать все\\n'\n",
      " 'гадости, все ужасы этого Антихриста (право, я верю, что он Антихрист), — я '\n",
      " 'вас больше не\\n'\n",
      " 'знаю, вы уж не друг мой, вы уж не мой верный раб, как вы говорите. ',\n",
      " ' Я вижу, что я вас пугаю. ',\n",
      " ' Так говорила в июле 1805 года известная Анна Павловна Шерер, фрейлина и\\n'\n",
      " 'приближенная императрицы Марии Феодоровны, встречая важного и чиновного '\n",
      " 'князя Василия, первого\\n'\n",
      " 'приехавшего на ее вечер. Анна Павловна кашляла несколько дней, у нее был <hi '\n",
      " 'rend=\"italic\">\\n'\n",
      " 'грипп </hi> , как она говорила <hi rend=\"italic\"> (грипп </hi> был тогда '\n",
      " 'новое слово,\\n'\n",
      " 'употреблявшееся только редкими). В записочках, разосланных утром с красным '\n",
      " 'лакеем, было\\n'\n",
      " 'написано без различия во всех: ',\n",
      " ' «Si vous n’avez rien de mieux à faire, M. le comte (или mon prince), et si '\n",
      " 'la\\n'\n",
      " 'perspective de passer la soirée chez une pauvre <pb n=\"4\"/> malade ne vous '\n",
      " 'effraye pas trop,\\n'\n",
      " 'je serai charmée de vous voir chez moi entre 7 et 10 heures. Annette '\n",
      " 'Scherer». <note n=\"n3\">\\n'\n",
      " '<div type=\"section\" xml:id=\"n3\">\\n'\n",
      " '<head>\\n'\n",
      " '<ref target=\"index.xhtml#backn3\"> 3 </ref>\\n'\n",
      " '</head>\\n'\n",
      " '<p rend=\"left\"> Если y вас, граф (или князь), нет в виду ничего лучшего и '\n",
      " 'если перспектива\\n'\n",
      " 'вечера у бедной больной не слишком вас пугает, то я буду очень рада видеть '\n",
      " 'вас нынче у себя\\n'\n",
      " 'между семью и десятью часами. Анна Шерер. ',\n",
      " ' — Dieu, quelle virulente sortie! <note n=\"n4\">\\n'\n",
      " '<div type=\"section\" xml:id=\"n4\">\\n'\n",
      " '<head>\\n'\n",
      " '<ref target=\"index.xhtml#backn4\"> 4 </ref>\\n'\n",
      " '</head>\\n'\n",
      " '<p rend=\"left\"> Господи, какое горячее нападение! ',\n",
      " ' Он говорил на том изысканном французском языке, на котором не только '\n",
      " 'говорили,\\n'\n",
      " 'но и думали наши деды, и с теми тихими, покровительственными интонациями, '\n",
      " 'которые свойственны\\n'\n",
      " 'состаревшемуcя в свете и при дворе значительному человеку. Он подошел к Анне '\n",
      " 'Павловне,\\n'\n",
      " 'поцеловал ее руку, подставив ей свою надушенную и сияющую лысину, и покойно '\n",
      " 'уселся на диване. ',\n",
      " ' — Avant tout dites moi, comment vous allez, chère amie? <note n=\"n5\">\\n'\n",
      " '<div type=\"section\" xml:id=\"n5\">\\n'\n",
      " '<head>\\n'\n",
      " '<ref target=\"index.xhtml#backn5\"> 5 </ref>\\n'\n",
      " '</head>\\n'\n",
      " '<p rend=\"left\"> Прежде всего скажите, как ваше здоровье, милый друг. ',\n",
      " ' — Как можно быть здоровой... когда нравственно страдаешь? Разве можно, '\n",
      " 'имея\\n'\n",
      " 'чувство, оставаться спокойною в наше время? — сказала Анна Павловна. — Вы '\n",
      " 'весь вечер у меня,\\n'\n",
      " 'надеюсь? ',\n",
      " ' — А праздник английского посланника? Нынче середа. Мне надо показаться там, '\n",
      " '—\\n'\n",
      " 'сказал князь. — Дочь заедет за мной и повезет меня. ',\n",
      " ' — Я думала, что нынешний праздник отменен. Je vous avoue que toutes ces '\n",
      " 'fêtes\\n'\n",
      " 'et tous ces feux d’artifice commencent à devenir insipides. <note n=\"n6\">\\n'\n",
      " '<div type=\"section\" xml:id=\"n6\">\\n'\n",
      " '<head>\\n'\n",
      " '<ref target=\"index.xhtml#backn6\"> 6 </ref>\\n'\n",
      " '</head>\\n'\n",
      " '<p rend=\"left\"> Признаюсь, все эти праздники и фейерверки становятся '\n",
      " 'несносны. ']\n"
     ]
    }
   ],
   "source": [
    "pprint(text_paragraphs[:10])"
   ]
  },
  {
   "cell_type": "markdown",
   "metadata": {},
   "source": [
    "Оказывается, что если принтить один элемент, то он вот такой:"
   ]
  },
  {
   "cell_type": "code",
   "execution_count": 124,
   "metadata": {
    "scrolled": true
   },
   "outputs": [
    {
     "name": "stdout",
     "output_type": "stream",
     "text": [
      "(' — Eh bien, mon prince. Gênes et Lucques ne sont plus que des apanages, des\\n'\n",
      " 'поместья, de la famille Buonaparte. Non, je vous préviens, que si vous ne me '\n",
      " 'dites pas, que\\n'\n",
      " 'nous avons la guerre, si vous vous permettez encore de pallier toutes les '\n",
      " 'infamies, toutes les\\n'\n",
      " 'atrocités de cet Antichrist (ma parole, j’y crois) — je ne vous connais '\n",
      " 'plus, vous n’êtes plus\\n'\n",
      " 'mon ami, vous n’êtes plus мой верный раб, comme vous dites. <note n=\"n1\">\\n'\n",
      " '<div type=\"section\" xml:id=\"n1\">\\n'\n",
      " '<head>\\n'\n",
      " '<ref target=\"index.xhtml#backn1\"> 1 </ref>\\n'\n",
      " '</head>\\n'\n",
      " '<p rend=\"left\"> Ну, князь, Генуя и Лукка поместья фамилии Бонапарте. Нет, я '\n",
      " 'вам вперед\\n'\n",
      " 'говорю, если вы мне не скажете, что у нас война, если вы еще позволите себе '\n",
      " 'защищать все\\n'\n",
      " 'гадости, все ужасы этого Антихриста (право, я верю, что он Антихрист), — я '\n",
      " 'вас больше не\\n'\n",
      " 'знаю, вы уж не друг мой, вы уж не мой верный раб, как вы говорите. ')\n"
     ]
    }
   ],
   "source": [
    "pprint(text_paragraphs[0])"
   ]
  },
  {
   "cell_type": "markdown",
   "metadata": {},
   "source": [
    "И он отлично токенизирует предложения:"
   ]
  },
  {
   "cell_type": "code",
   "execution_count": 125,
   "metadata": {
    "scrolled": true
   },
   "outputs": [
    {
     "data": {
      "text/plain": [
       "[' — Eh bien, mon prince.',\n",
       " 'Gênes et Lucques ne sont plus que des apanages, des\\nпоместья, de la famille Buonaparte.',\n",
       " 'Non, je vous préviens, que si vous ne me dites pas, que\\nnous avons la guerre, si vous vous permettez encore de pallier toutes les infamies, toutes les\\natrocités de cet Antichrist (ma parole, j’y crois) — je ne vous connais plus, vous n’êtes plus\\nmon ami, vous n’êtes plus мой верный раб, comme vous dites.',\n",
       " '<note n=\"n1\">\\n<div type=\"section\" xml:id=\"n1\">\\n<head>\\n<ref target=\"index.xhtml#backn1\"> 1 </ref>\\n</head>\\n<p rend=\"left\"> Ну, князь, Генуя и Лукка поместья фамилии Бонапарте.',\n",
       " 'Нет, я вам вперед\\nговорю, если вы мне не скажете, что у нас война, если вы еще позволите себе защищать все\\nгадости, все ужасы этого Антихриста (право, я верю, что он Антихрист), — я вас больше не\\nзнаю, вы уж не друг мой, вы уж не мой верный раб, как вы говорите.']"
      ]
     },
     "execution_count": 125,
     "metadata": {},
     "output_type": "execute_result"
    }
   ],
   "source": [
    "sent_tokenize(text_paragraphs[0])"
   ]
  },
  {
   "cell_type": "markdown",
   "metadata": {},
   "source": [
    "Сейчас работаю над тем, чтобы теги внутри абзацев исчезли. Ну и хочу, чтобы он потом выловил из всех абзацев только реплики, а потом распределил среди них русские и французские."
   ]
  },
  {
   "cell_type": "markdown",
   "metadata": {},
   "source": [
    "*примерно так*"
   ]
  }
 ],
 "metadata": {
  "kernelspec": {
   "display_name": "Python 3",
   "language": "python",
   "name": "python3"
  },
  "language_info": {
   "codemirror_mode": {
    "name": "ipython",
    "version": 3
   },
   "file_extension": ".py",
   "mimetype": "text/x-python",
   "name": "python",
   "nbconvert_exporter": "python",
   "pygments_lexer": "ipython3",
   "version": "3.7.4"
  }
 },
 "nbformat": 4,
 "nbformat_minor": 2
}
